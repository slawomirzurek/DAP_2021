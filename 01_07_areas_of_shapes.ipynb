{
 "cells": [
  {
   "cell_type": "code",
   "execution_count": null,
   "id": "3168825b",
   "metadata": {},
   "outputs": [],
   "source": [
    "import math\n",
    "\n",
    "def main():\n",
    "\n",
    "    def triangle(base,height):\n",
    "        area = ((base * height)/2)\n",
    "        return area\n",
    "    \n",
    "    def rectangle(width, height):\n",
    "        area = (width * height)\n",
    "        return area\n",
    "    \n",
    "    def circle(radius):\n",
    "        area = (math.pi * radius**2)\n",
    "        return area\n",
    "\n",
    "    while True:\n",
    "        choice = input(\"Choose a shape. You can choice: triangle, rectangle, circle\") \n",
    "        if choice == 'triangle':\n",
    "            base = int(input(\"Give base of the triangle: \"))\n",
    "            height = int(input(\"Give height of the triangle: \"))\n",
    "            print(\"The area is \", triangle(base, height))\n",
    "\n",
    "        elif choice == 'rectangle':\n",
    "            width = int(input(\"Give width of the rectangle: \"))\n",
    "            height = int(input(\"Give height of the rectangle: \"))\n",
    "            print(\"The area is \",rectangle(width, height))\n",
    "\n",
    "        elif choice == 'circle':\n",
    "            radius = int(input(\"Give radius of the circle: \"))\n",
    "            print(\"The area is \", circle(radius))  \n",
    "\n",
    "        elif choice == '':\n",
    "            break  \n",
    "        else:\n",
    "            print(\"Unknown shape!\")\n",
    "\n",
    "if __name__ == \"__main__\":\n",
    "    main()"
   ]
  },
  {
   "cell_type": "code",
   "execution_count": null,
   "id": "c7b2d3e6",
   "metadata": {},
   "outputs": [],
   "source": []
  },
  {
   "cell_type": "code",
   "execution_count": null,
   "id": "e4561b43",
   "metadata": {},
   "outputs": [],
   "source": []
  },
  {
   "cell_type": "code",
   "execution_count": null,
   "id": "0c908fc7",
   "metadata": {},
   "outputs": [],
   "source": []
  }
 ],
 "metadata": {
  "kernelspec": {
   "display_name": "Python 3",
   "language": "python",
   "name": "python3"
  },
  "language_info": {
   "codemirror_mode": {
    "name": "ipython",
    "version": 3
   },
   "file_extension": ".py",
   "mimetype": "text/x-python",
   "name": "python",
   "nbconvert_exporter": "python",
   "pygments_lexer": "ipython3",
   "version": "3.8.8"
  }
 },
 "nbformat": 4,
 "nbformat_minor": 5
}
