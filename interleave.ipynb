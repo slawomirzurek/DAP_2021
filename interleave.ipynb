{
 "cells": [
  {
   "cell_type": "code",
   "execution_count": null,
   "id": "927192ee",
   "metadata": {},
   "outputs": [],
   "source": [
    "def interleave(*lists):\n",
    "\t\n",
    "    L1 = [] # list of inputed lists\n",
    "    L2 = []\n",
    "\n",
    "    for i in lists:\n",
    "        L1.append(i)\n",
    "\n",
    "    zipped = list(zip(*L1))\n",
    "\n",
    "    for i in zipped:\n",
    "        for j in i:\n",
    "            L2.append(j)\n",
    "    return L2\n",
    "    \n",
    "def main():\n",
    "    print(interleave([1, 2, 3], [20, 30, 40], ['a', 'b', 'c']))\n",
    "\n",
    "if __name__ == \"__main__\":\n",
    "    main()"
   ]
  }
 ],
 "metadata": {
  "kernelspec": {
   "display_name": "Python 3",
   "language": "python",
   "name": "python3"
  },
  "language_info": {
   "codemirror_mode": {
    "name": "ipython",
    "version": 3
   },
   "file_extension": ".py",
   "mimetype": "text/x-python",
   "name": "python",
   "nbconvert_exporter": "python",
   "pygments_lexer": "ipython3",
   "version": "3.8.8"
  }
 },
 "nbformat": 4,
 "nbformat_minor": 5
}
