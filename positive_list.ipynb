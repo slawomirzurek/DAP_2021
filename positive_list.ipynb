{
 "cells": [
  {
   "cell_type": "code",
   "execution_count": null,
   "id": "fc64aa68",
   "metadata": {},
   "outputs": [],
   "source": [
    "L = [2,-2,0,1,-7]\n",
    "\n",
    "def positive_list(L):\n",
    "\n",
    "    def is_pos(x):\n",
    "        return x > 0\n",
    "\n",
    "    return(list(filter(is_pos, L)))\n",
    "\n",
    "def main():\n",
    "    pass\n",
    "\n",
    "if __name__ == \"__main__\":\n",
    "    main()"
   ]
  }
 ],
 "metadata": {
  "kernelspec": {
   "display_name": "Python 3",
   "language": "python",
   "name": "python3"
  },
  "language_info": {
   "codemirror_mode": {
    "name": "ipython",
    "version": 3
   },
   "file_extension": ".py",
   "mimetype": "text/x-python",
   "name": "python",
   "nbconvert_exporter": "python",
   "pygments_lexer": "ipython3",
   "version": "3.8.8"
  }
 },
 "nbformat": 4,
 "nbformat_minor": 5
}
