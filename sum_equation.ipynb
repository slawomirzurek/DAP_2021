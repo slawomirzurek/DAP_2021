{
 "cells": [
  {
   "cell_type": "code",
   "execution_count": 3,
   "id": "239a1f1a",
   "metadata": {},
   "outputs": [
    {
     "name": "stdout",
     "output_type": "stream",
     "text": [
      "1 + 5 + 7 = 13\n"
     ]
    }
   ],
   "source": [
    "from functools import reduce\n",
    "\n",
    "L = [1,5,7]\n",
    "\n",
    "def sum_equation(L):\n",
    "    if not L:\n",
    "        return (\"0 = 0\")\n",
    "    else:\n",
    "        r1 = str(L).replace(',',' +').replace(']','').replace('[','')\n",
    "        r2 = str(reduce(lambda x,y:x+y, L))\n",
    "        return (r1 + \" = \" + r2)\n",
    "    \n",
    "print(sum_equation(L))\n",
    "\n",
    "def main():\n",
    "    pass\n",
    "\n",
    "if __name__ == \"__main__\":\n",
    "    main()"
   ]
  }
 ],
 "metadata": {
  "kernelspec": {
   "display_name": "Python 3",
   "language": "python",
   "name": "python3"
  },
  "language_info": {
   "codemirror_mode": {
    "name": "ipython",
    "version": 3
   },
   "file_extension": ".py",
   "mimetype": "text/x-python",
   "name": "python",
   "nbconvert_exporter": "python",
   "pygments_lexer": "ipython3",
   "version": "3.8.8"
  }
 },
 "nbformat": 4,
 "nbformat_minor": 5
}
