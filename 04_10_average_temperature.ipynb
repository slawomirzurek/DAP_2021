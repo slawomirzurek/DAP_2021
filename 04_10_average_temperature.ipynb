{
  "nbformat": 4,
  "nbformat_minor": 0,
  "metadata": {
    "colab": {
      "name": "04_10_average_temperature.ipynb",
      "provenance": [],
      "collapsed_sections": [],
      "authorship_tag": "ABX9TyPyF432eXYCYCC4P5oPl2Q+",
      "include_colab_link": true
    },
    "kernelspec": {
      "name": "python3",
      "display_name": "Python 3"
    },
    "language_info": {
      "name": "python"
    }
  },
  "cells": [
    {
      "cell_type": "markdown",
      "metadata": {
        "id": "view-in-github",
        "colab_type": "text"
      },
      "source": [
        "<a href=\"https://colab.research.google.com/github/slawomirzurek/DAP_2021_Solutions/blob/main/04_10_average_temperature.ipynb\" target=\"_parent\"><img src=\"https://colab.research.google.com/assets/colab-badge.svg\" alt=\"Open In Colab\"/></a>"
      ]
    },
    {
      "cell_type": "code",
      "execution_count": null,
      "metadata": {
        "id": "JONae-sIOrf_"
      },
      "outputs": [],
      "source": [
        "import pandas as pd\n",
        "\n",
        "def average_temperature():\n",
        "    df = pd.read_csv(\"src/kumpula-weather-2017.csv\", sep = ',')\n",
        "    df2 = df[df.m == 7].describe()['Air temperature (degC)']['mean']\n",
        "    return df2\n",
        "\n",
        "def main():\n",
        "    print(\"Average temperature in July: \" + str(average_temperature()))\n",
        "\n",
        "if __name__ == \"__main__\":\n",
        "    main()"
      ]
    }
  ]
}