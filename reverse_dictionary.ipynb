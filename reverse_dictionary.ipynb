{
 "cells": [
  {
   "cell_type": "code",
   "execution_count": 2,
   "id": "17184050",
   "metadata": {},
   "outputs": [
    {
     "name": "stdout",
     "output_type": "stream",
     "text": [
      "{'liikuttaa': ['move'], 'piilottaa': ['hide'], 'salata': ['hide'], 'kuusi': ['six', 'fir']}\n"
     ]
    }
   ],
   "source": [
    "d={'move': ['liikuttaa'], 'hide': ['piilottaa', 'salata'], 'six': ['kuusi'], 'fir': ['kuusi']}\n",
    "\n",
    "def reverse_dictionary(d):\n",
    "\n",
    "    c = {}\n",
    "    t = []\n",
    "    for i in d.values():\n",
    "        for z in i:\n",
    "            t.append(z)\n",
    "    for v in t:\n",
    "        s = []\n",
    "        for key, value in d.items():\n",
    "            if v in value:\n",
    "                s.append(key)\n",
    "        c[v] = s\n",
    "    return c\n",
    "\n",
    "def main():\n",
    "    print(reverse_dictionary(d))\n",
    "\n",
    "if __name__ == \"__main__\":\n",
    "    main()"
   ]
  }
 ],
 "metadata": {
  "kernelspec": {
   "display_name": "Python 3",
   "language": "python",
   "name": "python3"
  },
  "language_info": {
   "codemirror_mode": {
    "name": "ipython",
    "version": 3
   },
   "file_extension": ".py",
   "mimetype": "text/x-python",
   "name": "python",
   "nbconvert_exporter": "python",
   "pygments_lexer": "ipython3",
   "version": "3.8.8"
  }
 },
 "nbformat": 4,
 "nbformat_minor": 5
}
