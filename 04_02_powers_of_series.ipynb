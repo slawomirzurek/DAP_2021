{
  "nbformat": 4,
  "nbformat_minor": 0,
  "metadata": {
    "colab": {
      "name": "04_02_powers of series.ipynb",
      "provenance": [],
      "collapsed_sections": [],
      "authorship_tag": "ABX9TyNZE0oCrpNQaqT7v/Bn6002",
      "include_colab_link": true
    },
    "kernelspec": {
      "name": "python3",
      "display_name": "Python 3"
    },
    "language_info": {
      "name": "python"
    }
  },
  "cells": [
    {
      "cell_type": "markdown",
      "metadata": {
        "id": "view-in-github",
        "colab_type": "text"
      },
      "source": [
        "<a href=\"https://colab.research.google.com/github/slawomirzurek/DAP_2021_Solutions/blob/main/04_02_powers_of_series.ipynb\" target=\"_parent\"><img src=\"https://colab.research.google.com/assets/colab-badge.svg\" alt=\"Open In Colab\"/></a>"
      ]
    },
    {
      "cell_type": "code",
      "execution_count": null,
      "metadata": {
        "id": "dG6nZGeIxH72"
      },
      "outputs": [],
      "source": [
        "import pandas as pd\n",
        "\n",
        "def powers_of_series(s,k):\n",
        "\n",
        "  if k>0:\n",
        "    df = pd.DataFrame(index=s.index)\n",
        "    for i in range(k):\n",
        "      df[i+1] = [x**(i+1) for x in s]\n",
        "    return df\n",
        "\n",
        "def main():\n",
        "    s = pd.Series([1,2,3,4], index=list(\"abcd\"))\n",
        "    print(powers_of_series(s, 3))\n",
        "    \n",
        "if __name__ == \"__main__\":\n",
        "    main()\n"
      ]
    }
  ]
}