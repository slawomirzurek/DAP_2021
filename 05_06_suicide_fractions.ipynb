{
  "nbformat": 4,
  "nbformat_minor": 0,
  "metadata": {
    "colab": {
      "name": "05_06_suicide_fractions.ipynb",
      "provenance": [],
      "authorship_tag": "ABX9TyP6OIqCZirFpOq98QQIoJir"
    },
    "kernelspec": {
      "name": "python3",
      "display_name": "Python 3"
    },
    "language_info": {
      "name": "python"
    }
  },
  "cells": [
    {
      "cell_type": "code",
      "execution_count": null,
      "metadata": {
        "id": "bW4V8s_LPRd2"
      },
      "outputs": [],
      "source": [
        "from os import sep\n",
        "import pandas as pd\n",
        "\n",
        "def suicide_fractions():\n",
        "    data = pd.read_csv('src/who_suicide_statistics.csv', sep=',', index_col=\"country\")\n",
        "    df = data.drop([\"year\", \"sex\", \"age\"], axis=1)\n",
        "\n",
        "    df[\"ratio\"] = df[\"suicides_no\"] / df[\"population\"]\n",
        "\n",
        "    df = df.groupby(\"country\")\n",
        "    df = df[\"ratio\"].mean()\n",
        "\n",
        "    return df\n",
        "\n",
        "def main():\n",
        "    df = suicide_fractions()\n",
        "    print(\"Shape:\", df.shape)\n",
        "    print(\"Column name:\", df.name)\n",
        "\n",
        "if __name__ == \"__main__\":\n",
        "    main()"
      ]
    }
  ]
}