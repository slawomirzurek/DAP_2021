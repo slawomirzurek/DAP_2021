{
  "nbformat": 4,
  "nbformat_minor": 0,
  "metadata": {
    "colab": {
      "name": "03_03_most_frequent_first.ipynb",
      "provenance": [],
      "authorship_tag": "ABX9TyOa3dRZ3K9CcIjAnX+tMBey"
    },
    "kernelspec": {
      "name": "python3",
      "display_name": "Python 3"
    },
    "language_info": {
      "name": "python"
    }
  },
  "cells": [
    {
      "cell_type": "code",
      "execution_count": null,
      "metadata": {
        "id": "rFMFC5rxIxkK"
      },
      "outputs": [],
      "source": [
        "#!/usr/bin/env python3\n",
        "\n",
        "import numpy as np\n",
        "\n",
        "def most_frequent_first(a, c):\n",
        "\n",
        "    column = a[:,c]\n",
        "    unique_object = np.unique(column, return_counts=True)\n",
        "    unique_values, n = unique_object\n",
        "\n",
        "    df = unique_values[np.argsort(-n)].reshape((1,-1))\n",
        "    df = np.nditer(df)\n",
        "\n",
        "    indxs = np.concatenate([np.where((column == x))[0] for x in df])\n",
        "    return a[indxs]\n",
        "\n",
        "def main():\n",
        "    most_frequent_first(a, c)\n",
        "\n",
        "if __name__ == \"__main__\":\n",
        "    main()"
      ]
    }
  ]
}