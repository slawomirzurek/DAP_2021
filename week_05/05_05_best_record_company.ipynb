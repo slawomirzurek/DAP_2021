{
  "nbformat": 4,
  "nbformat_minor": 0,
  "metadata": {
    "colab": {
      "name": "05_05_best_record_company.ipynb",
      "provenance": [],
      "authorship_tag": "ABX9TyOIZN9dqX+ZrWKFkHXJI17w"
    },
    "kernelspec": {
      "name": "python3",
      "display_name": "Python 3"
    },
    "language_info": {
      "name": "python"
    }
  },
  "cells": [
    {
      "cell_type": "code",
      "execution_count": null,
      "metadata": {
        "id": "nTeLaOEYNjL2"
      },
      "outputs": [],
      "source": [
        "import pandas as pd\n",
        "\n",
        "def best_record_company():\n",
        "    charts = pd.read_csv('src/UK-top40-1964-1-2.tsv', sep='\\t')\n",
        "    x = charts.groupby('Publisher')\n",
        "\n",
        "    y = x['WoC'].sum()\n",
        "    z = y.sort_values(ascending=False)\n",
        "\n",
        "    top_publ = z.index[0]\n",
        "    df = charts[charts['Publisher'] == top_publ]\n",
        "\n",
        "    return df\n",
        "\n",
        "def main():\n",
        "    df = best_record_company()\n",
        "    print(\"Shape:\", df.shape)\n",
        "    print(\"Column names:\", df.columns)\n",
        "    print(\"dtypes:\", df.dtypes)\n",
        "    print(df)"
      ]
    }
  ]
}
