{
  "nbformat": 4,
  "nbformat_minor": 0,
  "metadata": {
    "colab": {
      "name": "05_01_split_date_continues.ipynb",
      "provenance": [],
      "mount_file_id": "1SkJHnALaHTkT4fJDK6z4lfmJtiKOTIXY",
      "authorship_tag": "ABX9TyPY9sn4olqy/MHRLIFHB5jr"
    },
    "kernelspec": {
      "name": "python3",
      "display_name": "Python 3"
    },
    "language_info": {
      "name": "python"
    }
  },
  "cells": [
    {
      "cell_type": "code",
      "execution_count": null,
      "metadata": {
        "id": "LWooH3bRnuMd"
      },
      "outputs": [],
      "source": [
        "#!/usr/bin/env python3\n",
        "import pandas as pd\n",
        "\n",
        "def split_date():\n",
        "    df = pd.read_csv('src/Helsingin_pyorailijamaarat.csv', sep=';')\n",
        "\n",
        "    df.dropna(how='all', inplace=True)\n",
        "    df.dropna(axis=1, how='all', inplace=True)\n",
        "\n",
        "    df_date = df[\"Päivämäärä\"].str.split(expand=True)\n",
        "    df_date.columns = ['Weekday', 'Day', 'Month', 'Year', 'Hour']\n",
        "\n",
        "    weekdays = {'ma': 'Mon','ti': 'Tue','ke': 'Wed','to': 'Thu','pe': 'Fri','la': 'Sat','su': 'Sun'}\n",
        "    months = {'tammi': 1,'helmi': 2,'maalis': 3,'huhti': 4,'touko': 5,'kesä': 6,'heinä': 7,'elo': 8,'syys': 9,'loka': 10,'marras': 11,'joulu': 12}\n",
        "\n",
        "    df_weekday = df_date['Weekday'].map(weekdays)\n",
        "    df_date['Weekday'] = df_weekday\n",
        "\n",
        "    df_month = df_date['Month'].map(months)\n",
        "    df_date['Month'] = df_month\n",
        "\n",
        "    df_day = df_date['Day']\n",
        "    df_date['Day'] = df_day\n",
        "\n",
        "    df_year = df_date['Year']\n",
        "    df_date['Year'] = df_year\n",
        "\n",
        "    df_hour = df_date['Hour'].map(lambda x: x[0:2])\n",
        "    df_date['Hour'] = df_hour\n",
        "\n",
        "    df_date = df_date.astype({'Weekday': object, 'Day': int, 'Month': int, 'Year': int, 'Hour': int})\n",
        "    \n",
        "    return (df_date, df)\n",
        "\n",
        "def split_date_continues():\n",
        "    x, df = split_date()\n",
        "    df.dropna(how='all', axis=1, inplace=True)\n",
        "    df = df.iloc[:,1:]\n",
        "    conc = pd.concat([x, df], axis=1)\n",
        "    return conc\n",
        "\n",
        "def main():\n",
        "    df = split_date_continues()\n",
        "    print(\"Shape:\", df.shape)\n",
        "    print(\"Column names:\\n\", df.columns)\n",
        "    print(df.head())\n",
        "\n",
        "\n",
        "if __name__ == \"__main__\":\n",
        "    main()"
      ]
    }
  ]
}
