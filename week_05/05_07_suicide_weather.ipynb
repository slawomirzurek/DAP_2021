{
  "nbformat": 4,
  "nbformat_minor": 0,
  "metadata": {
    "colab": {
      "name": "05_07_suicide_weather.ipynb",
      "provenance": [],
      "collapsed_sections": [],
      "authorship_tag": "ABX9TyNHwLqs3AQF8ne6zejqaTI2"
    },
    "kernelspec": {
      "name": "python3",
      "display_name": "Python 3"
    },
    "language_info": {
      "name": "python"
    }
  },
  "cells": [
    {
      "cell_type": "code",
      "execution_count": null,
      "metadata": {
        "id": "Z849emgMY8Gr"
      },
      "outputs": [],
      "source": [
        "#!/usr/bin/env python3\n",
        "\n",
        "import pandas as pd\n",
        "\n",
        "def suicide_fractions():\n",
        "    data = pd.read_csv('src/who_suicide_statistics.csv', sep=',', index_col=\"country\")\n",
        "    df = data.drop([\"year\", \"sex\", \"age\"], axis=1)\n",
        "    df[\"ratio\"] = df[\"suicides_no\"] / df[\"population\"]\n",
        "    df = df.groupby(\"country\")\n",
        "    df = df[\"ratio\"].mean()\n",
        "    return df\n",
        "    \n",
        "def suicide_weather():\n",
        "    suicide = suicide_fractions()\n",
        "    weather = pd.read_html('src/List_of_countries_by_average_yearly_temperature.html', index_col=\"Country\")\n",
        "    weather = weather[0]\n",
        "\n",
        "    weather = weather.iloc[:, 0].str.replace(\"\\u2212\", \"-\")\n",
        "    weather = pd.to_numeric(weather, downcast=\"float\")\n",
        "\n",
        "    merged = pd.merge(weather, suicide, left_index=True, right_index=True)\n",
        "\n",
        "    correlation = merged.corr(method='spearman')\n",
        "    correlation = correlation.iloc[0, 1]\n",
        "\n",
        "    lista = [suicide, weather, merged]\n",
        "    (suicide_rows, temperature_rows, common_rows) = (x for x in lista)\n",
        "\n",
        "    return suicide_rows.shape[0], temperature_rows.shape[0], common_rows.shape[0], correlation\n",
        "\n",
        "def main():\n",
        "    suicide_rows, temperature_rows, common_rows, correlation = suicide_weather()\n",
        "    print(f\"Suicide DataFrame has {suicide_rows} rows\")\n",
        "    print(f\"Temperature DataFrame has {temperature_rows} rows\")\n",
        "    print(f\"Common DataFrame has {common_rows} rows\")\n",
        "    print(f\"Spearman correlation: {correlation}\")\n",
        "\n",
        "if __name__ == \"__main__\":\n",
        "    main()"
      ]
    }
  ]
}
