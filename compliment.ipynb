{
 "cells": [
  {
   "cell_type": "code",
   "execution_count": null,
   "id": "733b9118",
   "metadata": {},
   "outputs": [],
   "source": [
    "def main():\n",
    "\n",
    "    x = input(\"What country are you from? \")\n",
    "    print (\"I have heard that \" + x + \" is a beautiful country.\")\n",
    " \n",
    "if __name__ == \"__main__\":\n",
    "    main()"
   ]
  }
 ],
 "metadata": {
  "kernelspec": {
   "display_name": "Python 3",
   "language": "python",
   "name": "python3"
  }
 },
 "nbformat": 4,
 "nbformat_minor": 5
}
