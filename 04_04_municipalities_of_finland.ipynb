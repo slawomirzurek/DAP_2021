{
  "nbformat": 4,
  "nbformat_minor": 0,
  "metadata": {
    "colab": {
      "name": "04_04_municipalities of finland.ipynb",
      "provenance": [],
      "authorship_tag": "ABX9TyOJr4hTD+eUlEhHdV/4otHO"
    },
    "kernelspec": {
      "name": "python3",
      "display_name": "Python 3"
    },
    "language_info": {
      "name": "python"
    }
  },
  "cells": [
    {
      "cell_type": "code",
      "execution_count": null,
      "metadata": {
        "id": "hTC_VhLszQLN"
      },
      "outputs": [],
      "source": [
        "import pandas as pd\n",
        "\n",
        "def municipalities_of_finland():\n",
        "    df = pd.read_csv('src/municipal.tsv', sep='\\t', index_col=\"Region 2018\")\n",
        "    return df[1:312]\n",
        "    \n",
        "def main():\n",
        "    print(municipalities_of_finland())\n",
        "    \n",
        "if __name__ == \"__main__\":\n",
        "    main()"
      ]
    }
  ]
}