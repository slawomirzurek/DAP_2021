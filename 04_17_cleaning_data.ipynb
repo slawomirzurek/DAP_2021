{
  "nbformat": 4,
  "nbformat_minor": 0,
  "metadata": {
    "colab": {
      "name": "04_17_cleaning_data.ipynb",
      "provenance": [],
      "mount_file_id": "1Fuc2AVwV03MlHTHpkZCep3Id8KqQEAZZ",
      "authorship_tag": "ABX9TyNvef8wZ7b2K0F3UDyiEjf2"
    },
    "kernelspec": {
      "name": "python3",
      "display_name": "Python 3"
    },
    "language_info": {
      "name": "python"
    }
  },
  "cells": [
    {
      "cell_type": "code",
      "source": [
        "import pandas as pd\n",
        "import numpy as np\n",
        "\n",
        "\n",
        "def cleaning_data():\n",
        "\n",
        "    df = pd.read_csv('src\\presidents.tsv', sep=\"\\t\")\n",
        "\n",
        "\n",
        "    president = df.iloc[:,0]\n",
        "    for i, value in enumerate(president):\n",
        "      if \",\" in value:\n",
        "        value = value.replace(\",\",\"\").split(\" \")\n",
        "        value = ' '.join(value[::-1])\n",
        "        president[i] = value\n",
        "      else:\n",
        "        pass\n",
        "\n",
        "\n",
        "    df['Start'] = df['Start'].str[:4].astype(int)\n",
        "\n",
        "\n",
        "    df[df == '-'] = np.nan\n",
        "    df['Last'] = df['Last'].astype(float)\n",
        "\n",
        "\n",
        "    df[\"Seasons\"] = df[\"Seasons\"].replace('two','2').astype(int)\n",
        "\n",
        "\n",
        "    vice = df.iloc[:,-1]\n",
        "    for i, value in enumerate(vice):\n",
        "      value = value.capitalize()\n",
        "      if \",\" in value:\n",
        "          value = value.replace(\",\",\"\").split(\" \")\n",
        "          value = ' '.join(value[::-1])\n",
        "          vice[i] = value\n",
        "      else:\n",
        "        pass\n",
        "    df['Vice-president'] = vice.map(lambda x: x.title())\n",
        "\n",
        "\n",
        "    return df\n",
        "\n",
        "def main():\n",
        "    print(cleaning_data())\n",
        "\n",
        "if __name__ == \"__main__\":\n",
        "    main()"
      ],
      "metadata": {
        "id": "jR35YVYacmGR"
      },
      "execution_count": null,
      "outputs": []
    }
  ]
}