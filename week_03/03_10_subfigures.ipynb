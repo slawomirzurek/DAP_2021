{
  "nbformat": 4,
  "nbformat_minor": 0,
  "metadata": {
    "colab": {
      "name": "03_10_subfigures.ipynb",
      "provenance": []
    },
    "kernelspec": {
      "name": "python3",
      "display_name": "Python 3"
    },
    "language_info": {
      "name": "python"
    }
  },
  "cells": [
    {
      "cell_type": "code",
      "execution_count": null,
      "metadata": {
        "id": "dNvRWVxqjg42"
      },
      "outputs": [],
      "source": [
        "import numpy as np\n",
        "import matplotlib.pyplot as plt\n",
        "\n",
        "def subfigures(a):\n",
        "    x1 = a[0:,0]\n",
        "    x2 = a[:,1]\n",
        "    fig, ax = plt.subplots(1,2)\n",
        "    ax[0].plot(x1,x2)\n",
        "    ax[1].scatter(x1, x2, s=a[:,3],c=a[:,2])\n",
        "    \n",
        "    plt.show()\n",
        "\n",
        "def main():\n",
        "    a = np.random.randint(0, 50, (3, 4))\n",
        "    subfigures(a)\n",
        "\n",
        "if __name__ == \"__main__\":\n",
        "    main()"
      ]
    }
  ]
}