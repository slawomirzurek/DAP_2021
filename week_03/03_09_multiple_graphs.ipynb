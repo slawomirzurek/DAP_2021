{
  "nbformat": 4,
  "nbformat_minor": 0,
  "metadata": {
    "colab": {
      "name": "03_09_multiple_graphs.ipynb",
      "provenance": []
    },
    "kernelspec": {
      "name": "python3",
      "display_name": "Python 3"
    },
    "language_info": {
      "name": "python"
    }
  },
  "cells": [
    {
      "cell_type": "code",
      "execution_count": null,
      "metadata": {
        "id": "hD2VlEqlMh-a"
      },
      "outputs": [],
      "source": [
        "import numpy as np\n",
        "import matplotlib.pyplot as plt\n",
        "\n",
        "def main():\n",
        "    x1 = np.array([2,4,6,7])\n",
        "    x2 = np.array([1,2,3,4])\n",
        "\n",
        "    y1 = np.array([4,3,5,1])\n",
        "    y2 = np.array([4,2,3,1])\n",
        "\n",
        "    plt.plot(x1,y1)\n",
        "    plt.plot(x2,y2)\n",
        "    plt.title('title')\n",
        "    plt.xlabel('x-axis')\n",
        "    plt.ylabel('y-axis')\n",
        "    plt.show() \n",
        "\n",
        "if __name__ == \"__main__\":\n",
        "    main()"
      ]
    }
  ]
}