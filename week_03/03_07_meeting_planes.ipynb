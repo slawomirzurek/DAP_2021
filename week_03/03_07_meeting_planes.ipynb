{
  "nbformat": 4,
  "nbformat_minor": 0,
  "metadata": {
    "colab": {
      "name": "03_07_meeting planes.ipynb",
      "provenance": []
    },
    "kernelspec": {
      "name": "python3",
      "display_name": "Python 3"
    },
    "language_info": {
      "name": "python"
    }
  },
  "cells": [
    {
      "cell_type": "code",
      "execution_count": null,
      "metadata": {
        "id": "keObV7J9MVsU"
      },
      "outputs": [],
      "source": [
        "import numpy as np\n",
        "\n",
        "def meeting_planes(a1, b1, c1, a2, b2, c2, a3, b3, c3):\n",
        "    arr1 = np.array([[b1, a1, -1],[b2, a2, -1], [b3,a3,-1]])\n",
        "    arr2 = np.array([-c1, -c2, -c3])\n",
        "    return np.linalg.solve(arr1, arr2)\n",
        "\n",
        "def main():\n",
        "    a1=1\n",
        "    b1=4\n",
        "    c1=5\n",
        "    a2=3\n",
        "    b2=2\n",
        "    c2=1\n",
        "    a3=2\n",
        "    b3=4\n",
        "    c3=1\n",
        "\n",
        "    x, y, z = meeting_planes(a1, b1, c1, a2, b2, c2, a3, b3, c3)\n",
        "    print(f\"Planes meet at x={x}, y={y} and z={z}\")\n",
        "\n",
        "if __name__ == \"__main__\":\n",
        "    main()"
      ]
    }
  ]
}