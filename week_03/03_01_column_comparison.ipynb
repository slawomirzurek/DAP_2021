{
 "cells": [
  {
   "cell_type": "code",
   "execution_count": null,
   "id": "6db9f4a8",
   "metadata": {},
   "outputs": [],
   "source": [
    "import numpy as np\n",
    "\n",
    "lista = [8,9,3,8,8,0,5,3,9,9,5,7,6,0,4,7,8,1,6,2,2,1,3,5,8]\n",
    "a = np.array(lista).reshape(5,5)\n",
    "\n",
    "def column_comparison(a):\n",
    "    c = a[:,1]>a[:,-2]\n",
    "    return a[c]\n",
    "    \n",
    "column_comparison(a)\n",
    "    \n",
    "def main():\n",
    "    pass\n",
    "\n",
    "if __name__ == \"__main__\":\n",
    "    main()"
   ]
  }
 ],
 "metadata": {
  "kernelspec": {
   "display_name": "Python 3",
   "language": "python",
   "name": "python3"
  },
  "language_info": {
   "codemirror_mode": {
    "name": "ipython",
    "version": 3
   },
   "file_extension": ".py",
   "mimetype": "text/x-python",
   "name": "python",
   "nbconvert_exporter": "python",
   "pygments_lexer": "ipython3",
   "version": "3.8.8"
  }
 },
 "nbformat": 4,
 "nbformat_minor": 5
}
