{
  "nbformat": 4,
  "nbformat_minor": 0,
  "metadata": {
    "colab": {
      "name": "03_08_almost_meeting_lines.ipynb",
      "provenance": []
    },
    "kernelspec": {
      "name": "python3",
      "display_name": "Python 3"
    },
    "language_info": {
      "name": "python"
    }
  },
  "cells": [
    {
      "cell_type": "code",
      "execution_count": null,
      "metadata": {
        "id": "Aw11AdOVU18X"
      },
      "outputs": [],
      "source": [
        "import numpy as np\n",
        "\n",
        "def almost_meeting_lines(a1, b1, a2, b2):\n",
        "    arr1 = np.array([[a1, -1], [a2, -1]])\n",
        "    arr2 = np.array([- b1, - b2])\n",
        "    \n",
        "    try:\n",
        "        return (np.linalg.solve(arr1, arr2), True)\n",
        "    except:\n",
        "        return (np.linalg.lstsq(arr1, arr2, rcond=None)[0], False)\n",
        "\n",
        "\n",
        "def main():\n",
        "    a1=1\n",
        "    b1=2\n",
        "    a2=-1\n",
        "    b2=0\n",
        "\n",
        "    (x, y), exact = almost_meeting_lines(a1, b1, a2, b2)\n",
        "    if exact:\n",
        "        print(f\"Lines meet at x={x} and y={y}\")\n",
        "\n",
        "    a1=a2=1\n",
        "    b1=2\n",
        "    b2=-2\n",
        "    (x, y), exact = almost_meeting_lines(a1, b1, a1, b2)\n",
        "    if exact:\n",
        "        print(f\"Lines meet at x={x} and y={y}\")\n",
        "    else:\n",
        "        print(f\"Closest point at x={x} and y={y}\")\n",
        "\n",
        "    a1=1\n",
        "    b1=2\n",
        "    (x, y), exact = almost_meeting_lines(a1, b1, a1, b1)\n",
        "    if exact:\n",
        "        print(f\"Lines meet at x={x} and y={y}\")\n",
        "    else:\n",
        "        print(f\"Closest point at x={x} and y={y}\")\n",
        "\n",
        "    a1=1\n",
        "    b1=2\n",
        "    a2=1\n",
        "    b2=1\n",
        "    (x, y), exact = almost_meeting_lines(a1, b1, a2, b2)\n",
        "    if exact:\n",
        "        print(f\"Lines meet at x={x} and y={y}\")\n",
        "    else:\n",
        "        print(f\"Closest point at x={x} and y={y}\")\n",
        "\n",
        "if __name__ == \"__main__\":\n",
        "    main()"
      ]
    }
  ]
}