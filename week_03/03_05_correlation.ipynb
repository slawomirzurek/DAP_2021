{
 "cells": [
  {
   "cell_type": "code",
   "execution_count": null,
   "id": "c1db221c",
   "metadata": {},
   "outputs": [],
   "source": [
    "import scipy.stats\n",
    "import numpy as np\n",
    "import pandas as pd\n",
    "\n",
    "p = pd.read_csv(\"C://iris.csv\").drop('species', axis=1).values\n",
    "\n",
    "x = p[:,0]\n",
    "y = p[:,1]\n",
    "z = p[:,2]\n",
    "t = p[:,3]\n",
    "    \n",
    "def lengths():\n",
    "    return scipy.stats.pearsonr(x,z)[0]\n",
    "\n",
    "def correlations():\n",
    "    return np.corrcoef(p,rowvar=False)\n",
    "\n",
    "def main():\n",
    "    print(lengths())\n",
    "    print(correlations())\n",
    "\n",
    "if __name__ == \"__main__\":\n",
    "    main()"
   ]
  }
 ],
 "metadata": {
  "kernelspec": {
   "display_name": "Python 3",
   "language": "python",
   "name": "python3"
  },
  "language_info": {
   "codemirror_mode": {
    "name": "ipython",
    "version": 3
   },
   "file_extension": ".py",
   "mimetype": "text/x-python",
   "name": "python",
   "nbconvert_exporter": "python",
   "pygments_lexer": "ipython3",
   "version": "3.8.8"
  }
 },
 "nbformat": 4,
 "nbformat_minor": 5
}
