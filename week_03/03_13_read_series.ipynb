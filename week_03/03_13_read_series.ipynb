{
  "nbformat": 4,
  "nbformat_minor": 0,
  "metadata": {
    "colab": {
      "name": "03_13_read_series.ipynb",
      "provenance": []
    },
    "kernelspec": {
      "name": "python3",
      "display_name": "Python 3"
    },
    "language_info": {
      "name": "python"
    }
  },
  "cells": [
    {
      "cell_type": "code",
      "execution_count": null,
      "metadata": {
        "id": "gxTSrgVeFAHt"
      },
      "outputs": [],
      "source": [
        "import pandas as pd\n",
        "\n",
        "def read_series():\n",
        "    lista = []\n",
        "    indexes = []\n",
        "\n",
        "\n",
        "    while True:\n",
        "        s = input(\"Input integers: \")\n",
        "        if len(s) == 0:\n",
        "            print('Empty input!')\n",
        "            break\n",
        "        else:\n",
        "            sp = s.split()\n",
        "            if len(sp) < 2:\n",
        "                raise Exception\n",
        "            else:\n",
        "                indexes.append(sp[0])\n",
        "                lista.append(\"\".join(sp[1:]))\n",
        "    return pd.Series(lista, indexes)\n",
        "\n",
        "def main():\n",
        "    read_series()\n",
        "\n",
        "if __name__ == \"__main__\":\n",
        "    main()"
      ]
    }
  ]
}