{
  "nbformat": 4,
  "nbformat_minor": 0,
  "metadata": {
    "colab": {
      "name": "03_15_inverse series.ipynb",
      "provenance": [],
      "authorship_tag": "ABX9TyOQ7TJr9kzzDZbg551dvX4+",
      "include_colab_link": true
    },
    "kernelspec": {
      "name": "python3",
      "display_name": "Python 3"
    },
    "language_info": {
      "name": "python"
    }
  },
  "cells": [
    {
      "cell_type": "markdown",
      "metadata": {
        "id": "view-in-github",
        "colab_type": "text"
      },
      "source": [
        "<a href=\"https://colab.research.google.com/github/slawomirzurek/DAP_2021_Solutions/blob/main/03_15_inverse_series.ipynb\" target=\"_parent\"><img src=\"https://colab.research.google.com/assets/colab-badge.svg\" alt=\"Open In Colab\"/></a>"
      ]
    },
    {
      "cell_type": "code",
      "execution_count": null,
      "metadata": {
        "id": "EdEsKLF9b-yO"
      },
      "outputs": [],
      "source": [
        "import pandas as pd\n",
        "\n",
        "def inverse_series(s):\n",
        "    return pd.Series(s.index, s.values)\n",
        "\n",
        "def main():\n",
        "    s = pd.Series(['t','e','s','t'])\n",
        "    print(inverse_series(s))\n",
        "\n",
        "if __name__ == \"__main__\":\n",
        "    main()"
      ]
    }
  ]
}
