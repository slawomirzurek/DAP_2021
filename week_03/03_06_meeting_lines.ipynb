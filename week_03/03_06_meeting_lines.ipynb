{
  "nbformat": 4,
  "nbformat_minor": 0,
  "metadata": {
    "colab": {
      "name": "03_06_meeting lines.ipynb",
      "provenance": [],
      "collapsed_sections": []
    },
    "kernelspec": {
      "name": "python3",
      "display_name": "Python 3"
    },
    "language_info": {
      "name": "python"
    }
  },
  "cells": [
    {
      "cell_type": "code",
      "execution_count": null,
      "metadata": {
        "id": "znlP743t2Vt9"
      },
      "outputs": [],
      "source": [
        "import numpy as np\n",
        "\n",
        "def meeting_lines(a1, b1, a2, b2):\n",
        "    arr1 = np.array([[a1, -1],[a2, -1]])\n",
        "    arr2 = np.array([-b1, -b2])\n",
        "    return np.linalg.solve(arr1, arr2)\n",
        "    \n",
        "def main():\n",
        "    a1=1\n",
        "    b1=4\n",
        "    a2=3\n",
        "    b2=2\n",
        "\n",
        "    x, y  = meeting_lines(a1, b1, a2, b2)\n",
        "    print(f\"Lines meet at x={x} and y={y}\")\n",
        "\n",
        "if __name__ == \"__main__\":\n",
        "    main()"
      ]
    }
  ]
}