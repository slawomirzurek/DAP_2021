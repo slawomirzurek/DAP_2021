{
  "nbformat": 4,
  "nbformat_minor": 0,
  "metadata": {
    "colab": {
      "name": "03_12_radial_fade.ipynb",
      "provenance": []
    },
    "kernelspec": {
      "name": "python3",
      "display_name": "Python 3"
    },
    "language_info": {
      "name": "python"
    }
  },
  "cells": [
    {
      "cell_type": "code",
      "execution_count": null,
      "metadata": {
        "id": "BEokd3g9-qpb"
      },
      "outputs": [],
      "source": [
        "import numpy as np\n",
        "import matplotlib.pyplot as plt\n",
        "\n",
        "def center(a):\n",
        "    y, x = a.shape[0:2]\n",
        "    center = ((y-1)/2,(x-1)/2)\n",
        "    return center\n",
        "\n",
        "\n",
        "def radial_distance(a):\n",
        "    h, w = a.shape[0:2]\n",
        "    y, x = a.shape[0:2]\n",
        "    center = ((y-1)/2,(x-1)/2)\n",
        "    dist_array = np.empty((h,w))\n",
        "    for index, value in np.ndenumerate(dist_array):\n",
        "        dist_array[index] = np.linalg.norm(np.array(index)-np.array(center))\n",
        "    return dist_array\n",
        "\n",
        "\n",
        "def scale(a, tmin=0.0, tmax=1.0):\n",
        "    return np.interp(a, (a.min(), a.max()), (tmin, tmax))\n",
        "\n",
        "\n",
        "def radial_mask(a):\n",
        "    return scale(1 - radial_distance(a))\n",
        "\n",
        "\n",
        "def radial_fade(a):\n",
        "    h, w = a.shape[0:2]\n",
        "    m = radial_mask(a).reshape(h,w,1)\n",
        "    return a*m\n",
        "\n",
        "\n",
        "def main():\n",
        "    image=plt.imread('src\\painting.png')\n",
        "    \n",
        "    plt.subplot(3, 1, 1) \n",
        "    plt.imshow(image)\n",
        "    \n",
        "    plt.subplot(3, 1, 2)\n",
        "    plt.imshow(radial_mask(image)) \n",
        "    \n",
        "    plt.subplot(3, 1, 3)\n",
        "    plt.imshow(radial_fade(image)) \n",
        "\n",
        "    plt.show()\n"
      ]
    }
  ]
}