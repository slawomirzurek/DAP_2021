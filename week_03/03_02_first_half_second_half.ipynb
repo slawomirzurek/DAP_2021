{
 "cells": [
  {
   "cell_type": "code",
   "execution_count": null,
   "id": "2c0e2f88",
   "metadata": {},
   "outputs": [],
   "source": [
    "import numpy as np\n",
    "\n",
    "def first_half_second_half(a):\n",
    "    m = int((a.shape[1])/2)\n",
    "    p1 = np.sum(a[:,:m],1)\n",
    "    p2 = np.sum(a[:,m:],1)\n",
    "    return a[p1>p2]\n",
    "\n",
    "def main():\n",
    "    pass\n",
    "\n",
    "if __name__ == \"__main__\":\n",
    "    main()"
   ]
  }
 ],
 "metadata": {
  "kernelspec": {
   "display_name": "Python 3",
   "language": "python",
   "name": "python3"
  },
  "language_info": {
   "codemirror_mode": {
    "name": "ipython",
    "version": 3
   },
   "file_extension": ".py",
   "mimetype": "text/x-python",
   "name": "python",
   "nbconvert_exporter": "python",
   "pygments_lexer": "ipython3",
   "version": "3.8.8"
  }
 },
 "nbformat": 4,
 "nbformat_minor": 5
}
