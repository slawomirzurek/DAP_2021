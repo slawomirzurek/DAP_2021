{
 "cells": [
  {
   "cell_type": "code",
   "execution_count": null,
   "id": "2bca2028",
   "metadata": {},
   "outputs": [],
   "source": [
    "import numpy as np\n",
    "import matplotlib.pyplot as plt\n",
    "\n",
    "def to_grayscale(image):\n",
    "    grayscaled = np.sum([0.2126, 0.7152, 0.0722] * image, axis = 2)\n",
    "    return grayscaled\n",
    "\n",
    "def to_red(image):\n",
    "    return image * [1, 0, 0]\n",
    "\n",
    "def to_green(image):\n",
    "    return image * [0, 1, 0]\n",
    "\n",
    "def to_blue(image):\n",
    "    return image * [0, 0, 1]\n",
    "\n",
    "def main():\n",
    "    painting=plt.imread('\\src\\painting.png')\n",
    "    \n",
    "    plt.subplot(4, 1, 1) \n",
    "    plt.imshow(to_red(painting))\n",
    "    \n",
    "    plt.subplot(4, 1, 2)\n",
    "    plt.imshow(to_green(painting)) \n",
    "    \n",
    "    plt.subplot(4, 1, 3)\n",
    "    plt.imshow(to_blue(painting))\n",
    "    plt.show()\n",
    "\n",
    "    greyscaled = to_grayscale(painting)\n",
    "    plt.imshow(greyscaled)\n",
    "    plt.gray()\n",
    "    plt.show()\n",
    "\n",
    "if __name__ == \"__main__\":\n",
    "    main()"
   ]
  }
 ],
 "metadata": {
  "kernelspec": {
   "display_name": "Python 3",
   "language": "python",
   "name": "python3"
  },
  "language_info": {
   "codemirror_mode": {
    "name": "ipython",
    "version": 3
   },
   "file_extension": ".py",
   "mimetype": "text/x-python",
   "name": "python",
   "nbconvert_exporter": "python",
   "pygments_lexer": "ipython3",
   "version": "3.8.8"
  }
 },
 "nbformat": 4,
 "nbformat_minor": 5
}
