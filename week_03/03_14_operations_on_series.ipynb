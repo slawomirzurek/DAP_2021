{
  "nbformat": 4,
  "nbformat_minor": 0,
  "metadata": {
    "colab": {
      "name": "03_14_operations_on_series.ipynb",
      "provenance": [],
      "authorship_tag": "ABX9TyN2HwF5lFXhBUG6zaiym8kU"
    },
    "kernelspec": {
      "name": "python3",
      "display_name": "Python 3"
    },
    "language_info": {
      "name": "python"
    }
  },
  "cells": [
    {
      "cell_type": "code",
      "execution_count": null,
      "metadata": {
        "id": "LMdRhyEM7xbj"
      },
      "outputs": [],
      "source": [
        "import pandas as pd\n",
        "\n",
        "def create_series(L1, L2):\n",
        "    s1 = pd.Series((L1), index = list('abc'))\n",
        "    s2 = pd.Series((L2), index = list('abc'))\n",
        "    return (s1, s2)\n",
        "    \n",
        "def modify_series(s1, s2):\n",
        "    s1['d]'] = s2['b']\n",
        "    del s2['b']\n",
        "    return (s1, s2)\n",
        "    \n",
        "def main():\n",
        "    L1 = [1, 10, 20]\n",
        "    L2 = [3, 30, 40]\n",
        "    s1, s2 = create_series(L1, L2)\n",
        "    s1m, s2m = modify_series(s1,s2)\n",
        "    print(s1m + s2m)\n",
        "    \n",
        "if __name__ == \"__main__\":\n",
        "    main()"
      ]
    }
  ]
}
