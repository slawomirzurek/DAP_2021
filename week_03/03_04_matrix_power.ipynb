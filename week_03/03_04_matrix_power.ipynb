{
  "nbformat": 4,
  "nbformat_minor": 0,
  "metadata": {
    "colab": {
      "name": "03_04_matrix_power.ipynb",
      "provenance": [],
      "collapsed_sections": []
    },
    "kernelspec": {
      "name": "python3",
      "display_name": "Python 3"
    },
    "language_info": {
      "name": "python"
    }
  },
  "cells": [
    {
      "cell_type": "code",
      "execution_count": null,
      "metadata": {
        "id": "usRMYf2EPdq2"
      },
      "outputs": [],
      "source": [
        "import numpy as np\n",
        "from functools import reduce\n",
        "\n",
        "def matrix_power(a,n):\n",
        "  m = a.shape[0]\n",
        " \n",
        "  if n==0:\n",
        "    return np.eye(m, dtype = int)\n",
        "  else:\n",
        "    generat = [a for i in range(abs(n))]\n",
        "    multi = reduce(lambda x,y: x@y, generat)\n",
        "    if n>0:\n",
        "      return multi\n",
        "    else:\n",
        "      return np.linalg.inv(multi)\n",
        "\n",
        "\n",
        "np.random.seed(1)\n",
        "a=np.random.randint(0,5, (5,5))\n",
        "n = 10\n",
        "\n",
        "matrix_power(a,n)\n",
        "\n",
        "def main():\n",
        "    return\n",
        "\n",
        "if __name__ == \"__main__\":\n",
        "    main()"
      ]
    }
  ]
}