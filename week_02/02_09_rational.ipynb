{
 "cells": [
  {
   "cell_type": "code",
   "execution_count": null,
   "id": "95e527b7",
   "metadata": {},
   "outputs": [],
   "source": [
    "class Rational(object):\n",
    "    \n",
    "    def __init__(self, licznik, mianownik):\n",
    "        self.licznik = licznik\n",
    "        self.mianownik = mianownik\n",
    "        \n",
    "    def __str__(self):\n",
    "        return (str(self.licznik) + '/' +str(self.mianownik))\n",
    "    \n",
    "    def __add__(self, liczba):\n",
    "        b = int(self.mianownik * liczba.mianownik)\n",
    "        a = int((b/self.mianownik)*self.licznik) + int((b/liczba.mianownik)*liczba.licznik)\n",
    "        return Rational(a, b)\n",
    "    \n",
    "    def __sub__(self, liczba):\n",
    "        b = int(self.mianownik * liczba.mianownik)\n",
    "        a = int((b/self.mianownik)*self.licznik) - int((b/liczba.mianownik)*liczba.licznik)\n",
    "        return Rational(a, b)\n",
    "    \n",
    "    def __mul__(self, liczba):\n",
    "        b = int(self.mianownik * liczba.mianownik)\n",
    "        a = int(self.licznik * liczba.licznik)\n",
    "        return Rational(a, b)\n",
    "    \n",
    "    def __truediv__(self, liczba):\n",
    "        a = int(self.licznik * liczba.mianownik)\n",
    "        b = int(self.mianownik * liczba.licznik)\n",
    "        return Rational(a, b)\n",
    "    \n",
    "    def __eq__(self, liczba):\n",
    "        return self.licznik == liczba.licznik and self.mianownik == liczba.mianownik\n",
    "  \n",
    "    def __gt__(self, liczba):\n",
    "        b = int(self.mianownik * liczba.mianownik)\n",
    "        return int((b/self.mianownik)*self.licznik) > int((b/liczba.mianownik)*liczba.licznik)  \n",
    "  \n",
    "    def __lt__(self, liczba):\n",
    "        b = int(self.mianownik * liczba.mianownik)\n",
    "        return int((b/self.mianownik)*self.licznik) < int((b/liczba.mianownik)*liczba.licznik)  \n",
    "        \n",
    "def main():\n",
    "    r1=Rational(1,4)\n",
    "    r2=Rational(2,3)\n",
    "    print(r1)\n",
    "    print(r2)\n",
    "    print(r1*r2)\n",
    "    print(r1/r2)\n",
    "    print(r1+r2)\n",
    "    print(r1-r2)\n",
    "    print(Rational(1,2) == Rational(2,4))\n",
    "    print(Rational(1,2) > Rational(2,4))\n",
    "    print(Rational(1,2) < Rational(2,4))\n",
    "\n",
    "if __name__ == \"__main__\":\n",
    "    main()"
   ]
  }
 ],
 "metadata": {
  "kernelspec": {
   "display_name": "Python 3",
   "language": "python",
   "name": "python3"
  },
  "language_info": {
   "codemirror_mode": {
    "name": "ipython",
    "version": 3
   },
   "file_extension": ".py",
   "mimetype": "text/x-python",
   "name": "python",
   "nbconvert_exporter": "python",
   "pygments_lexer": "ipython3",
   "version": "3.8.8"
  }
 },
 "nbformat": 4,
 "nbformat_minor": 5
}
