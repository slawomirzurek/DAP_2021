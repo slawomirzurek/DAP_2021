{
 "cells": [
  {
   "cell_type": "code",
   "execution_count": null,
   "id": "e588b8e5",
   "metadata": {},
   "outputs": [],
   "source": [
    "import re\n",
    "filename = \"src/rgb.txt\"\n",
    "\n",
    "def red_green_blue(filename):\n",
    "    result = []\n",
    "    with open(filename, 'r') as f:\n",
    "        lines = f.readlines()\n",
    "        del lines[0]\n",
    "        \n",
    "        for line in lines:\n",
    "            result.append('\\t'.join(re.search(r'(\\d+)\\s+(\\d+)\\s+(\\d+)\\s+(.+)', line).groups()))\n",
    "        return (result)\n",
    "        \n",
    "red_green_blue(filename)"
   ]
  }
 ],
 "metadata": {
  "kernelspec": {
   "display_name": "Python 3",
   "language": "python",
   "name": "python3"
  },
  "language_info": {
   "codemirror_mode": {
    "name": "ipython",
    "version": 3
   },
   "file_extension": ".py",
   "mimetype": "text/x-python",
   "name": "python",
   "nbconvert_exporter": "python",
   "pygments_lexer": "ipython3",
   "version": "3.8.8"
  }
 },
 "nbformat": 4,
 "nbformat_minor": 5
}
