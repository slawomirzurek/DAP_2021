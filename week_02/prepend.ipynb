{
 "cells": [
  {
   "cell_type": "code",
   "execution_count": null,
   "id": "515d2eb2",
   "metadata": {},
   "outputs": [],
   "source": [
    "class Prepend(object):\n",
    "    def __init__(self, s):\n",
    "        self.s = s\n",
    "\n",
    "    def write(self, text):\n",
    "        self.text = text\n",
    "        print(self.s + self.text)\n",
    "        \n",
    "def main():\n",
    "    p = Prepend(\"+++ \")\n",
    "    p.write(\"Hello\")\n",
    "if __name__ == \"__main__\":\n",
    "    main()"
   ]
  }
 ],
 "metadata": {
  "kernelspec": {
   "display_name": "Python 3",
   "language": "python",
   "name": "python3"
  },
  "language_info": {
   "codemirror_mode": {
    "name": "ipython",
    "version": 3
   },
   "file_extension": ".py",
   "mimetype": "text/x-python",
   "name": "python",
   "nbconvert_exporter": "python",
   "pygments_lexer": "ipython3",
   "version": "3.8.8"
  }
 },
 "nbformat": 4,
 "nbformat_minor": 5
}
