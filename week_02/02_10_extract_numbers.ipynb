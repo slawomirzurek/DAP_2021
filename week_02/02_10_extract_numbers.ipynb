{
 "cells": [
  {
   "cell_type": "code",
   "execution_count": null,
   "id": "d2462168",
   "metadata": {},
   "outputs": [],
   "source": [
    "s = \"abd 123 1.2 test 13.2 -1\"\n",
    "def extract_numbers(s):\n",
    "    CL =[]\n",
    "    \n",
    "    for x in list(s.split()):\n",
    "        try:\n",
    "            CL.append(int(x))\n",
    "        except ValueError:\n",
    "            try:\n",
    "                CL.append(float(x))\n",
    "            except:\n",
    "                pass\n",
    "    return(CL)\n",
    "\n",
    "print(extract_numbers(s)) "
   ]
  }
 ],
 "metadata": {
  "kernelspec": {
   "display_name": "Python 3",
   "language": "python",
   "name": "python3"
  },
  "language_info": {
   "codemirror_mode": {
    "name": "ipython",
    "version": 3
   },
   "file_extension": ".py",
   "mimetype": "text/x-python",
   "name": "python",
   "nbconvert_exporter": "python",
   "pygments_lexer": "ipython3",
   "version": "3.8.8"
  }
 },
 "nbformat": 4,
 "nbformat_minor": 5
}
