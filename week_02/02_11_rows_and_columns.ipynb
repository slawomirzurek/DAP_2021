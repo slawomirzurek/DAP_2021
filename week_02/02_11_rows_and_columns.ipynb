{
 "cells": [
  {
   "cell_type": "code",
   "execution_count": null,
   "id": "11d2c381",
   "metadata": {},
   "outputs": [],
   "source": [
    "import numpy as np\n",
    "\n",
    "def get_rows(a):\n",
    "    L =[]\n",
    "    for x in range(a.shape[0]):\n",
    "        L.append(a[x])\n",
    "    return L\n",
    "\n",
    "def get_columns(a):\n",
    "    L =[]\n",
    "    for x in range(a.shape[1]):\n",
    "        L.append(a.T[x])\n",
    "    return L\n",
    "\n",
    "def main():\n",
    "    np.random.seed(0)\n",
    "    a=np.random.randint(0,10, (4,4))\n",
    "    print(\"a:\", a)\n",
    "    print(\"Rows:\", get_rows(a))\n",
    "    print(\"Columns:\", get_columns(a))\n",
    "\n",
    "if __name__ == \"__main__\":\n",
    "    main()"
   ]
  }
 ],
 "metadata": {
  "kernelspec": {
   "display_name": "Python 3",
   "language": "python",
   "name": "python3"
  },
  "language_info": {
   "codemirror_mode": {
    "name": "ipython",
    "version": 3
   },
   "file_extension": ".py",
   "mimetype": "text/x-python",
   "name": "python",
   "nbconvert_exporter": "python",
   "pygments_lexer": "ipython3",
   "version": "3.8.8"
  }
 },
 "nbformat": 4,
 "nbformat_minor": 5
}
