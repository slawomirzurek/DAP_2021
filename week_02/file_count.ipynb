{
 "cells": [
  {
   "cell_type": "code",
   "execution_count": null,
   "id": "08622da4",
   "metadata": {},
   "outputs": [],
   "source": [
    "import sys,os,re\n",
    "\n",
    "def file_count(filename):\n",
    "    with open(filename, 'r') as f:\n",
    "        lines = f.readlines()\n",
    "        charactercount = sum([len(x) for x in lines])\n",
    "        linecount = sum([len(re.search('\\s',i).group()) for i in lines])\n",
    "        wordcount = sum([len(i.split()) for i in lines])\n",
    "    return(linecount, wordcount, charactercount)\n",
    "\n",
    "def main():\n",
    "\n",
    "    files = sys.argv[1:]\n",
    "    for filename in files:\n",
    "        linecount, charactercount, wordcount = file_count(filename)\n",
    "        print(f\"{linecount}\\t{wordcount}\\t{charactercount}\\t{filename}\")\n",
    "\n",
    "if __name__ == \"__main__\":\n",
    "    main()"
   ]
  }
 ],
 "metadata": {
  "kernelspec": {
   "display_name": "Python 3",
   "language": "python",
   "name": "python3"
  },
  "language_info": {
   "codemirror_mode": {
    "name": "ipython",
    "version": 3
   },
   "file_extension": ".py",
   "mimetype": "text/x-python",
   "name": "python",
   "nbconvert_exporter": "python",
   "pygments_lexer": "ipython3",
   "version": "3.8.8"
  }
 },
 "nbformat": 4,
 "nbformat_minor": 5
}
