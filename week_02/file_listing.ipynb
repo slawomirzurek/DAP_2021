{
 "cells": [
  {
   "cell_type": "code",
   "execution_count": null,
   "id": "52a033e7",
   "metadata": {},
   "outputs": [],
   "source": [
    "import re\n",
    "\n",
    "def file_listing(filename=\"src/listing.txt\"):\n",
    "    result = []\n",
    "    \n",
    "    with open(filename,\"r\") as f:\n",
    "        lines = f.readlines()\n",
    "        for line in lines:\n",
    "            x = re.search(r'(\\d+)\\s+(\\w+)\\s+(\\d+)\\s+(\\d+):(\\d+)\\s(.+)', line)\n",
    "            size, month, day, hour, minute, filename = x.groups()\n",
    "            result.append((int(size), month, int(day), int(hour), int(minute), filename)) \n",
    "        return(result)"
   ]
  }
 ],
 "metadata": {
  "kernelspec": {
   "display_name": "Python 3",
   "language": "python",
   "name": "python3"
  },
  "language_info": {
   "codemirror_mode": {
    "name": "ipython",
    "version": 3
   },
   "file_extension": ".py",
   "mimetype": "text/x-python",
   "name": "python",
   "nbconvert_exporter": "python",
   "pygments_lexer": "ipython3",
   "version": "3.8.8"
  }
 },
 "nbformat": 4,
 "nbformat_minor": 5
}
