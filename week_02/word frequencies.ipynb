{
 "cells": [
  {
   "cell_type": "code",
   "execution_count": null,
   "id": "115c4f70",
   "metadata": {},
   "outputs": [],
   "source": [
    "import re\n",
    "\n",
    "def word_frequencies(filename):\n",
    "        d_dict = {}\n",
    "        d_list = []\n",
    "        with open(filename, 'r') as f:\n",
    "            lines = f.readlines()\n",
    "            for line in lines:\n",
    "                line = line.split()\n",
    "                line = [i.strip(\"\"\"!\"#$%&'()*,-./:;?@[]_\"\"\") for i in line]\n",
    "                for i in line:\n",
    "                    d_list.append(i)\n",
    "        \n",
    "        for i in set(d_list):\n",
    "            d_dict[i] = d_list.count(i)\n",
    "        return d_dict\n",
    "        \n",
    "word_frequencies(filename = 'src/alice.txt')"
   ]
  }
 ],
 "metadata": {
  "kernelspec": {
   "display_name": "Python 3",
   "language": "python",
   "name": "python3"
  },
  "language_info": {
   "codemirror_mode": {
    "name": "ipython",
    "version": 3
   },
   "file_extension": ".py",
   "mimetype": "text/x-python",
   "name": "python",
   "nbconvert_exporter": "python",
   "pygments_lexer": "ipython3",
   "version": "3.8.8"
  }
 },
 "nbformat": 4,
 "nbformat_minor": 5
}
