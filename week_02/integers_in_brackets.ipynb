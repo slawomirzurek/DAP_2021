{
 "cells": [
  {
   "cell_type": "code",
   "execution_count": null,
   "id": "6cc052cf",
   "metadata": {},
   "outputs": [],
   "source": [
    "import re\n",
    "\n",
    "def integers_in_brackets(s):\n",
    "    if not s:\n",
    "        return []\n",
    "    else:\n",
    "        m = re.sub(\" \", \"\", s).replace(\"[\", \" [\").replace(\"]\", \"] \").replace(\"+-\",\"a\")\n",
    "        m = re.findall(r\"[\\[\\+\\-]\\d+\\]\", m)\n",
    "        m = \"x\".join(m)\n",
    "        m = m.replace('[','').replace('+','').replace(']','')\n",
    "        m = re.split('x',m)\n",
    "        m = [int(x) for x in m]\n",
    "    return(m)\n",
    "\n",
    "def main():\n",
    "    pass\n",
    "\n",
    "if __name__ == \"__main__\":\n",
    "    main()"
   ]
  }
 ],
 "metadata": {
  "kernelspec": {
   "display_name": "Python 3",
   "language": "python",
   "name": "python3"
  },
  "language_info": {
   "codemirror_mode": {
    "name": "ipython",
    "version": 3
   },
   "file_extension": ".py",
   "mimetype": "text/x-python",
   "name": "python",
   "nbconvert_exporter": "python",
   "pygments_lexer": "ipython3",
   "version": "3.8.8"
  }
 },
 "nbformat": 4,
 "nbformat_minor": 5
}
