{
 "cells": [
  {
   "cell_type": "code",
   "execution_count": null,
   "id": "45993325",
   "metadata": {},
   "outputs": [],
   "source": [
    "import numpy as np\n",
    "import numpy.linalg as LA\n",
    "\n",
    "def vector_angles(X, Y):\n",
    "    length1 = X.shape[0]\n",
    "    length2 = Y.shape[0]\n",
    "    \n",
    "    if length1 == length2:\n",
    "        for i in range(length1):\n",
    "            dp = np.inner(X[i],Y[i])\n",
    "            Xn,Yn = LA.norm(X[i]),LA.norm(Y[i])\n",
    "            c = dp/(Xn*Yn)\n",
    "            c_clipped = np.clip(c,-1.0,1.0)\n",
    "            angle_rad = np.arccos(c_clipped)\n",
    "            angle_dec = np.degrees(angle_rad)\n",
    "            return angle_dec\n",
    "    \n",
    "def main():\n",
    "    np.random.seed(1)\n",
    "    X=np.array([[0,0,1], [-1,1,0]])\n",
    "    Y=np.array([[0,1,0], [1,1,0]])\n",
    "    print(vector_angles(X, Y))\n",
    "\n",
    "if __name__ == \"__main__\":\n",
    "    main()"
   ]
  }
 ],
 "metadata": {
  "kernelspec": {
   "display_name": "Python 3",
   "language": "python",
   "name": "python3"
  },
  "language_info": {
   "codemirror_mode": {
    "name": "ipython",
    "version": 3
   },
   "file_extension": ".py",
   "mimetype": "text/x-python",
   "name": "python",
   "nbconvert_exporter": "python",
   "pygments_lexer": "ipython3",
   "version": "3.8.8"
  }
 },
 "nbformat": 4,
 "nbformat_minor": 5
}
