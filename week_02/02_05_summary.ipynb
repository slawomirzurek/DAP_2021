{
 "cells": [
  {
   "cell_type": "code",
   "execution_count": null,
   "id": "60cc5148",
   "metadata": {},
   "outputs": [],
   "source": [
    "import sys, math\n",
    "\n",
    "def summary(filename):\n",
    "    with open(filename, 'r') as f:\n",
    "        result = []\n",
    "        lines = f.readlines()\n",
    "        for i in lines:\n",
    "            try:\n",
    "                i = float(i)\n",
    "                result.append(i)\n",
    "            except:\n",
    "                pass\n",
    "    \n",
    "    summ = math.fsum(result)\n",
    "    n = len(result)\n",
    "    average = summ/n\n",
    "    variance = [math.fsum((x-average) ** 2 for x in result) / (n-1)]\n",
    "    std_dev = math.sqrt(variance[0])\n",
    "    return(summ,average,std_dev)\n",
    "    \n",
    "    \n",
    "def main():\n",
    "\n",
    "    files = sys.argv[1:]\n",
    "    for i in files:\n",
    "        summ, average, std_dev = summary(i)\n",
    "        print(f\"File: {i} \" + \"Sum: {:.6f}\".format(summ) + \" Average: {:.6f}\".format(average) + \" Stddev: {:.6f}\".format(std_dev))\n",
    "\n",
    "if __name__ == \"__main__\":\n",
    "    main()"
   ]
  }
 ],
 "metadata": {
  "kernelspec": {
   "display_name": "Python 3",
   "language": "python",
   "name": "python3"
  },
  "language_info": {
   "codemirror_mode": {
    "name": "ipython",
    "version": 3
   },
   "file_extension": ".py",
   "mimetype": "text/x-python",
   "name": "python",
   "nbconvert_exporter": "python",
   "pygments_lexer": "ipython3",
   "version": "3.8.8"
  }
 },
 "nbformat": 4,
 "nbformat_minor": 5
}
