{
 "cells": [
  {
   "cell_type": "code",
   "execution_count": null,
   "id": "f37536d4",
   "metadata": {},
   "outputs": [],
   "source": [
    "def file_extensions(filename):\n",
    "    \n",
    "    lista, extends, result = [], [], []\n",
    "    tmp, tmp2 = {},{}\n",
    "    \n",
    "    with open(filename,\"r\") as f:\n",
    "        lines = f.readlines()\n",
    "        \n",
    "        for line in lines:\n",
    "            if '.' in line:\n",
    "                x = line.strip().split('.')[-1]\n",
    "                lista.append(line.strip())\n",
    "                extends.append(x)\n",
    "            else:\n",
    "                t = []\n",
    "                t.append(line.strip())\n",
    "                result.append(t)\n",
    "        \n",
    "        tmp = dict(zip(lista, extends))\n",
    "        for key, value in tmp.items():\n",
    "            tmp2[value] = tmp2.get(value,[])\n",
    "            tmp2[value].append(key)\n",
    "        result.append(tmp2)      \n",
    "        return(tuple(result))\n",
    "\n",
    "def main():\n",
    "    filename = r'src\\filenames.txt'\n",
    "    result = file_extensions(filename)\n",
    "    print(f\"{len(result[0])} files with no extension\")\n",
    "    \n",
    "    for key, value in result[1].items():\n",
    "        print(key, len(value))"
   ]
  }
 ],
 "metadata": {
  "kernelspec": {
   "display_name": "Python 3",
   "language": "python",
   "name": "python3"
  },
  "language_info": {
   "codemirror_mode": {
    "name": "ipython",
    "version": 3
   },
   "file_extension": ".py",
   "mimetype": "text/x-python",
   "name": "python",
   "nbconvert_exporter": "python",
   "pygments_lexer": "ipython3",
   "version": "3.8.8"
  }
 },
 "nbformat": 4,
 "nbformat_minor": 5
}
