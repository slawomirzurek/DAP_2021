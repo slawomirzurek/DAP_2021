{
  "nbformat": 4,
  "nbformat_minor": 0,
  "metadata": {
    "colab": {
      "name": "04_09_snow_depth.ipynb",
      "provenance": [],
      "collapsed_sections": [],
      "authorship_tag": "ABX9TyPhsza4OIcJ2N40ZmbuEvLk",
      "include_colab_link": true
    },
    "kernelspec": {
      "name": "python3",
      "display_name": "Python 3"
    },
    "language_info": {
      "name": "python"
    }
  },
  "cells": [
    {
      "cell_type": "markdown",
      "metadata": {
        "id": "view-in-github",
        "colab_type": "text"
      },
      "source": [
        "<a href=\"https://colab.research.google.com/github/slawomirzurek/DAP_2021_Solutions/blob/main/04_09_snow_depth.ipynb\" target=\"_parent\"><img src=\"https://colab.research.google.com/assets/colab-badge.svg\" alt=\"Open In Colab\"/></a>"
      ]
    },
    {
      "cell_type": "code",
      "execution_count": null,
      "metadata": {
        "id": "JONae-sIOrf_"
      },
      "outputs": [],
      "source": [
        "import pandas as pd\n",
        "\n",
        "def snow_depth():\n",
        "    df = pd.read_csv(\"src\\kumpula-weather-2017.csv\", sep = ',')\n",
        "    df2 = df.describe()['Snow depth (cm)']['max']\n",
        "    return df2\n",
        "\n",
        "def main():\n",
        "    print(\"Max snow depth: \" + str(snow_depth()))\n",
        "\n",
        "if __name__ == \"__main__\":\n",
        "    main()"
      ]
    }
  ]
}