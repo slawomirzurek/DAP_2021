{
  "nbformat": 4,
  "nbformat_minor": 0,
  "metadata": {
    "colab": {
      "name": "04_05_swedish_and_foreigners.ipynb",
      "provenance": [],
      "authorship_tag": "ABX9TyMuTtgGwsQmJmdneYEhFOFj",
      "include_colab_link": true
    },
    "kernelspec": {
      "name": "python3",
      "display_name": "Python 3"
    },
    "language_info": {
      "name": "python"
    }
  },
  "cells": [
    {
      "cell_type": "markdown",
      "metadata": {
        "id": "view-in-github",
        "colab_type": "text"
      },
      "source": [
        "<a href=\"https://colab.research.google.com/github/slawomirzurek/DAP_2021_Solutions/blob/main/04_05_swedish_and_foreigners.ipynb\" target=\"_parent\"><img src=\"https://colab.research.google.com/assets/colab-badge.svg\" alt=\"Open In Colab\"/></a>"
      ]
    },
    {
      "cell_type": "code",
      "execution_count": null,
      "metadata": {
        "id": "j-PKG63SODRB"
      },
      "outputs": [],
      "source": [
        "import pandas as pd\n",
        "\n",
        "def swedish_and_foreigners():\n",
        "    df = pd.read_csv(\"src/municipal.tsv\", sep = '\\t', index_col=\"Region 2018\")\n",
        "    data = df[1:312]\n",
        "\n",
        "    filter1 = data[data.columns[2]] > 5\n",
        "    filter2 = data[data.columns[3]] > 5\n",
        "    filtered = data[filter1 & filter2]\n",
        "\n",
        "    return filtered[[data.columns[0], data.columns[2], data.columns[3]]]\n",
        "\n",
        "def main():\n",
        "    print(swedish_and_foreigners())\n",
        "\n",
        "if __name__ == \"__main__\":\n",
        "    main()"
      ]
    }
  ]
}
