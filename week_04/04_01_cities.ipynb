{
  "nbformat": 4,
  "nbformat_minor": 0,
  "metadata": {
    "colab": {
      "name": "04_01_cities.ipynb",
      "provenance": [],
      "authorship_tag": "ABX9TyOfBNB73waOz+pGuM/ZYr4b",
      "include_colab_link": true
    },
    "kernelspec": {
      "name": "python3",
      "display_name": "Python 3"
    },
    "language_info": {
      "name": "python"
    }
  },
  "cells": [
    {
      "cell_type": "markdown",
      "metadata": {
        "id": "view-in-github",
        "colab_type": "text"
      },
      "source": [
        "<a href=\"https://colab.research.google.com/github/slawomirzurek/DAP_2021_Solutions/blob/main/04_01_cities.ipynb\" target=\"_parent\"><img src=\"https://colab.research.google.com/assets/colab-badge.svg\" alt=\"Open In Colab\"/></a>"
      ]
    },
    {
      "cell_type": "code",
      "execution_count": null,
      "metadata": {
        "id": "89Fz0uIQMWax"
      },
      "outputs": [],
      "source": [
        "import pandas as pd\n",
        "import numpy as np\n",
        "\n",
        "def cities():\n",
        "    helsinki = ['Helsinki', 643272, 715.48]\n",
        "    espoo = ['Espoo', 279044, 528.03]\n",
        "    tampere = ['Tampere', 231853, 689.59]\n",
        "    vantaa = ['Vantaa', 223027, 240.35]\n",
        "    oulu = ['Oulu', 201810, 3817.52]\n",
        "\n",
        "    cities = [helsinki, espoo, tampere, vantaa, oulu]\n",
        "    cities_names, cities_values = np.array([x[0] for x in cities]), np.array([x[1:] for x in cities])\n",
        "\n",
        "    df = pd.DataFrame(cities_values, columns = ['Population', 'Total area'], index = cities_names)\n",
        "    return df\n",
        "    \n",
        "def main():\n",
        "    print(cities())\n",
        "    \n",
        "if __name__ == \"__main__\":\n",
        "    main()\n",
        "    "
      ]
    }
  ]
}
