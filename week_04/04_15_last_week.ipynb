{
  "nbformat": 4,
  "nbformat_minor": 0,
  "metadata": {
    "colab": {
      "name": "04_15_last_week.ipynb",
      "provenance": [],
      "authorship_tag": "ABX9TyM/BCe0EIOkqd57JXYIl+Ne"
    },
    "kernelspec": {
      "name": "python3",
      "display_name": "Python 3"
    },
    "language_info": {
      "name": "python"
    }
  },
  "cells": [
    {
      "cell_type": "code",
      "execution_count": null,
      "metadata": {
        "id": "q4WtEbnEq9c-"
      },
      "outputs": [],
      "source": [
        "import pandas as pd\n",
        "import numpy as np\n",
        "\n",
        "def last_week():\n",
        "    df = pd.read_csv('src/UK-top40-1964-1-2.tsv', sep='\\t')\n",
        "    ran = range(1,len(df)+1)\n",
        "\n",
        "    df['WoC'] = df['WoC']-1\n",
        "\n",
        "    df = df[~df['LW'].isin(['New', 'Re'])]\n",
        "    df['LW']=pd.to_numeric(df['LW'], errors='coerce')\n",
        "\n",
        "    mask = (df['Peak Pos'] == df['Pos']) & (df['Pos'] < df['LW'])\n",
        "    df.loc[mask, 'Peak Pos'] = np.nan\n",
        "    df.sort_values(by=['LW'])\n",
        "\n",
        "    df.index = df['LW']\n",
        "    df = df.reindex(ran)\n",
        "    \n",
        "    df['LW'] = np.nan\n",
        "    df['Pos'] = df.index\n",
        "    \n",
        "    return df\n",
        "\n",
        "def main():\n",
        "    df = last_week()\n",
        "    print(\"Shape: {}, {}\".format(*df.shape))\n",
        "    print(\"dtypes:\", df.dtypes)\n",
        "    print(df)\n",
        "\n",
        "\n",
        "if __name__ == \"__main__\":\n",
        "    main()"
      ]
    }
  ]
}
