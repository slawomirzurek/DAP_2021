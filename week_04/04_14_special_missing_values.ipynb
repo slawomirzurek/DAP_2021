{
  "nbformat": 4,
  "nbformat_minor": 0,
  "metadata": {
    "colab": {
      "name": "04_14_special_missing_values.ipynb",
      "provenance": [],
      "collapsed_sections": [],
      "authorship_tag": "ABX9TyPpnlrqLNQ+HLrijkFFgCTn",
      "include_colab_link": true
    },
    "kernelspec": {
      "name": "python3",
      "display_name": "Python 3"
    },
    "language_info": {
      "name": "python"
    }
  },
  "cells": [
    {
      "cell_type": "markdown",
      "metadata": {
        "id": "view-in-github",
        "colab_type": "text"
      },
      "source": [
        "<a href=\"https://colab.research.google.com/github/slawomirzurek/DAP_2021_Solutions/blob/main/04_14_special_missing_values.ipynb\" target=\"_parent\"><img src=\"https://colab.research.google.com/assets/colab-badge.svg\" alt=\"Open In Colab\"/></a>"
      ]
    },
    {
      "cell_type": "code",
      "execution_count": null,
      "metadata": {
        "id": "JONae-sIOrf_"
      },
      "outputs": [],
      "source": [
        "#!/usr/bin/env python3\n",
        "\n",
        "import pandas as pd\n",
        "import numpy as np\n",
        "\n",
        "def special_missing_values():\n",
        "    df = pd.read_csv('src/UK-top40-1964-1-2.tsv', sep='\\t')\n",
        "\n",
        "    # Creating filter of bool series from isin()\n",
        "    filter = ~df['LW'].isin(['New','Re'])\n",
        "    new = df[filter]\n",
        "\n",
        "    y = new['Pos']\n",
        "    x = new['LW'].astype({'LW': int}, errors='raise')\n",
        "    \n",
        "    return new[y > x]\n",
        "\n",
        "def main():\n",
        "    print(special_missing_values())\n",
        "\n",
        "if __name__ == \"__main__\":\n",
        "    main()"
      ]
    }
  ]
}
