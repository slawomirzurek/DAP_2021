{
  "nbformat": 4,
  "nbformat_minor": 0,
  "metadata": {
    "colab": {
      "name": "04_07_subsetting_with_loc.ipynb",
      "provenance": [],
      "collapsed_sections": [],
      "authorship_tag": "ABX9TyObjlh1NQ5SB3Cs8ITX/MIv",
      "include_colab_link": true
    },
    "kernelspec": {
      "name": "python3",
      "display_name": "Python 3"
    },
    "language_info": {
      "name": "python"
    }
  },
  "cells": [
    {
      "cell_type": "markdown",
      "metadata": {
        "id": "view-in-github",
        "colab_type": "text"
      },
      "source": [
        "<a href=\"https://colab.research.google.com/github/slawomirzurek/DAP_2021_Solutions/blob/main/04_07_subsetting_with_loc.ipynb\" target=\"_parent\"><img src=\"https://colab.research.google.com/assets/colab-badge.svg\" alt=\"Open In Colab\"/></a>"
      ]
    },
    {
      "cell_type": "code",
      "execution_count": null,
      "metadata": {
        "id": "JONae-sIOrf_"
      },
      "outputs": [],
      "source": [
        "import pandas as pd\n",
        "\n",
        "def subsetting_with_loc():\n",
        "    df = pd.read_csv(\"src/municipal.tsv\", sep = '\\t')\n",
        "    df.set_index(\"Region 2018\", inplace=True)\n",
        "    return df.loc['Akaa':'Äänekoski'][[df.columns[0], df.columns[2], df.columns[3]]]\n",
        "\n",
        "def main():\n",
        "    print(subsetting_with_loc(df))\n",
        "\n",
        "if __name__ == \"__main__\":\n",
        "    main()"
      ]
    }
  ]
}
