{
  "nbformat": 4,
  "nbformat_minor": 0,
  "metadata": {
    "colab": {
      "name": "04_06_growing municipalities.ipynb",
      "provenance": [],
      "authorship_tag": "ABX9TyPXj8H9OwfrNPflNNMfttxh",
      "include_colab_link": true
    },
    "kernelspec": {
      "name": "python3",
      "display_name": "Python 3"
    },
    "language_info": {
      "name": "python"
    }
  },
  "cells": [
    {
      "cell_type": "markdown",
      "metadata": {
        "id": "view-in-github",
        "colab_type": "text"
      },
      "source": [
        "<a href=\"https://colab.research.google.com/github/slawomirzurek/DAP_2021_Solutions/blob/main/04_06_growing_municipalities.ipynb\" target=\"_parent\"><img src=\"https://colab.research.google.com/assets/colab-badge.svg\" alt=\"Open In Colab\"/></a>"
      ]
    },
    {
      "cell_type": "code",
      "execution_count": null,
      "metadata": {
        "id": "JONae-sIOrf_"
      },
      "outputs": [],
      "source": [
        "import pandas as pd\n",
        "\n",
        "def growing_municipalities(df):\n",
        "    filter = df[df[df.columns[1]] > 0].index\n",
        "    result_1 = len(filter)/df.shape[0]\n",
        "    return result_1\n",
        "\n",
        "def main():\n",
        "    df = pd.read_csv(\"src/municipal.tsv\", sep = '\\t', index_col=\"Region 2018\")\n",
        "    result_2 = growing_municipalities(df[1:312])*100\n",
        "    result_3 = round(result_2, 1)\n",
        "    print('Proportion of growing municipalities: ' + str(result_3) + '%')\n",
        "\n",
        "if __name__ == \"__main__\":\n",
        "    main()"
      ]
    }
  ]
}
