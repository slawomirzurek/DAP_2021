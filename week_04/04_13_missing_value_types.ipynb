{
  "nbformat": 4,
  "nbformat_minor": 0,
  "metadata": {
    "colab": {
      "name": "04_13_missing_value_types.ipynb",
      "provenance": [],
      "collapsed_sections": [],
      "authorship_tag": "ABX9TyNXt8lHAUmZwHVg3NuQWkyM",
      "include_colab_link": true
    },
    "kernelspec": {
      "name": "python3",
      "display_name": "Python 3"
    },
    "language_info": {
      "name": "python"
    }
  },
  "cells": [
    {
      "cell_type": "markdown",
      "metadata": {
        "id": "view-in-github",
        "colab_type": "text"
      },
      "source": [
        "<a href=\"https://colab.research.google.com/github/slawomirzurek/DAP_2021_Solutions/blob/main/04_13_missing_value_types.ipynb\" target=\"_parent\"><img src=\"https://colab.research.google.com/assets/colab-badge.svg\" alt=\"Open In Colab\"/></a>"
      ]
    },
    {
      "cell_type": "code",
      "execution_count": null,
      "metadata": {
        "id": "JONae-sIOrf_"
      },
      "outputs": [],
      "source": [
        "import pandas as pd\n",
        "import numpy as np\n",
        "\n",
        "def missing_value_types():\n",
        "    state = ['United Kingdom', 'Finland', 'USA', 'Sweden', 'Germany', 'Russia']\n",
        "    year_of_indepedence = [None, 1917, 1776, 1523, None, 1992]\n",
        "    president = [None, 'Niinistö', 'Trump', None, 'Steinmeier', 'Putin']\n",
        "    df = pd.DataFrame(list(zip(state, year_of_indepedence, president)), columns=['State', 'Year of independence', 'President'])\n",
        "    df.set_index('State', inplace=True)\n",
        "    df = df.astype({'Year of independence': float}, errors='raise')\n",
        "    df = df.astype({'President': object}, errors='raise')\n",
        "    return df\n",
        "               \n",
        "def main():\n",
        "    print(missing_value_types())\n",
        "\n",
        "if __name__ == \"__main__\":\n",
        "    main()"
      ]
    }
  ]
}
