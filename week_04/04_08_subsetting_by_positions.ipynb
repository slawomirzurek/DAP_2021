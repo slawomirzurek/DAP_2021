{
  "nbformat": 4,
  "nbformat_minor": 0,
  "metadata": {
    "colab": {
      "name": "04_08_subsetting_by_positions.ipynb",
      "provenance": [],
      "collapsed_sections": [],
      "authorship_tag": "ABX9TyM3/oo9NU43ykWPiddfbgqI",
      "include_colab_link": true
    },
    "kernelspec": {
      "name": "python3",
      "display_name": "Python 3"
    },
    "language_info": {
      "name": "python"
    }
  },
  "cells": [
    {
      "cell_type": "markdown",
      "metadata": {
        "id": "view-in-github",
        "colab_type": "text"
      },
      "source": [
        "<a href=\"https://colab.research.google.com/github/slawomirzurek/DAP_2021_Solutions/blob/main/04_08_subsetting_by_positions.ipynb\" target=\"_parent\"><img src=\"https://colab.research.google.com/assets/colab-badge.svg\" alt=\"Open In Colab\"/></a>"
      ]
    },
    {
      "cell_type": "code",
      "execution_count": null,
      "metadata": {
        "id": "JONae-sIOrf_"
      },
      "outputs": [],
      "source": [
        "import pandas as pd\n",
        "\n",
        "def subsetting_by_positions():\n",
        "    df = pd.read_csv(\"src/UK-top40-1964-1-2.tsv\", sep = '\\t')\n",
        "    df.set_index(\"Pos\", inplace=True)\n",
        "    return df.iloc[0:10][['Title', 'Artist']]\n",
        "\n",
        "def main():\n",
        "    subsetting_by_positions()\n",
        "\n",
        "if __name__ == \"__main__\":\n",
        "    main()"
      ]
    }
  ]
}
