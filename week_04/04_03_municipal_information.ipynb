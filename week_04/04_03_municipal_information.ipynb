{
  "nbformat": 4,
  "nbformat_minor": 0,
  "metadata": {
    "colab": {
      "name": "04_03_municipal information.ipynb",
      "provenance": [],
      "authorship_tag": "ABX9TyMT+gDiIrrZ7SoXiK0yxJgr",
      "include_colab_link": true
    },
    "kernelspec": {
      "name": "python3",
      "display_name": "Python 3"
    },
    "language_info": {
      "name": "python"
    }
  },
  "cells": [
    {
      "cell_type": "markdown",
      "metadata": {
        "id": "view-in-github",
        "colab_type": "text"
      },
      "source": [
        "<a href=\"https://colab.research.google.com/github/slawomirzurek/DAP_2021_Solutions/blob/main/04_03_municipal_information.ipynb\" target=\"_parent\"><img src=\"https://colab.research.google.com/assets/colab-badge.svg\" alt=\"Open In Colab\"/></a>"
      ]
    },
    {
      "cell_type": "code",
      "execution_count": null,
      "metadata": {
        "id": "Yyp3yIMIb39h"
      },
      "outputs": [],
      "source": [
        "import pandas as pd\n",
        "\n",
        "def main():\n",
        "    df = pd.read_csv('src/municipal.tsv', sep='\\t')\n",
        "    shape = df.shape\n",
        "\n",
        "    print(\"Shape: \" + str(shape[0])+\",\" + str(shape[1]))\n",
        "    print(\"Columns:\")\n",
        "    for i in df.columns:\n",
        "        print(i)\n",
        "\n",
        "if __name__ == \"__main__\":\n",
        "    main()"
      ]
    }
  ]
}
