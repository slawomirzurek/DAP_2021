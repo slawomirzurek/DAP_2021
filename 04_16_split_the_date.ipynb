{
  "nbformat": 4,
  "nbformat_minor": 0,
  "metadata": {
    "colab": {
      "name": "04_16_split_the_date.ipynb",
      "provenance": [],
      "collapsed_sections": [],
      "authorship_tag": "ABX9TyMii6rLgVxgupEWgVTI7Q2q",
      "include_colab_link": true
    },
    "kernelspec": {
      "name": "python3",
      "display_name": "Python 3"
    },
    "language_info": {
      "name": "python"
    }
  },
  "cells": [
    {
      "cell_type": "markdown",
      "metadata": {
        "id": "view-in-github",
        "colab_type": "text"
      },
      "source": [
        "<a href=\"https://colab.research.google.com/github/slawomirzurek/DAP_2021_Solutions/blob/main/04_16_split_the_date.ipynb\" target=\"_parent\"><img src=\"https://colab.research.google.com/assets/colab-badge.svg\" alt=\"Open In Colab\"/></a>"
      ]
    },
    {
      "cell_type": "code",
      "execution_count": null,
      "metadata": {
        "id": "JONae-sIOrf_"
      },
      "outputs": [],
      "source": [
        "#!/usr/bin/env python3\n",
        "\n",
        "import pandas as pd\n",
        "import numpy as np\n",
        "\n",
        "\n",
        "def split_date():\n",
        "    weekdays = {\"ma\":\"Mon\",\"ti\":\"Tue\",\"ke\":\"Wed\",\"to\":\"Thu\",\"pe\":\"Fri\",\"la\":\"Sat\",\"su\":\"Sun\"}\n",
        "    months = {\"tammi\" :1,\"helmi\" :2,\"maalis\" :3,\"huhti\" :4,\"touko\" :5,\"kesä\":6,\"heinä\" :7,\"elo\" :8,\"syys\" :9,\"loka\" :10,\"marras\" :11,\"joulu\" :12,}\n",
        "\n",
        "    df = pd.read_csv('src/Helsingin_pyorailijamaarat.csv', sep=\";\")\n",
        "\n",
        "    # Drop only those rows where all the row values are null values\n",
        "    df_new = df.dropna(axis=0, how='all')\n",
        "\n",
        "    # Drop only those columns where all the row values are null values\n",
        "    df_new = df_new.dropna(axis=1, how='all')\n",
        "\n",
        "    # Choosing the column with the date\n",
        "    df_new = df_new.iloc[0:,0]\n",
        "\n",
        "    # Splitting data into columns\n",
        "    df_new = df_new.str.split(expand=True)\n",
        "\n",
        "    # Adding column names to Data Frame\n",
        "    df_new.columns = ['Weekday','Day','Month','Year','Hour']\n",
        "\n",
        "    # Replacing values of weekdays and months \n",
        "    df_new = df_new.replace(weekdays).replace(months)\n",
        "\n",
        "    # Slicing column with hours\n",
        "    df_new['Hour'] = df_new['Hour'].str[0:2]\n",
        "\n",
        "    # Setting type of integer for all columns\n",
        "    df_new.astype({\"Month\" : int, \"Day\": int}) \n",
        "    df_new['Day'] = pd.to_numeric(df_new['Day'])\n",
        "    df_new['Year'] = pd.to_numeric(df_new['Year'])\n",
        "    df_new['Hour'] = pd.to_numeric(df_new['Hour'])\n",
        "    return df_new\n",
        "\n",
        "def main():\n",
        "    print(split_date())\n",
        "       \n",
        "if __name__ == \"__main__\":\n",
        "    main()"
      ]
    }
  ]
}