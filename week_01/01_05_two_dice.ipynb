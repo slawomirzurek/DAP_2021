{
 "cells": [
  {
   "cell_type": "code",
   "execution_count": 1,
   "id": "2fcd5b7d",
   "metadata": {},
   "outputs": [
    {
     "name": "stdout",
     "output_type": "stream",
     "text": [
      "(1, 4)\n",
      "(2, 3)\n",
      "(3, 2)\n",
      "(4, 1)\n"
     ]
    }
   ],
   "source": [
    "def main():\n",
    "    \n",
    "    dice1 = [*range(1,7)]\n",
    "    dice2 = dice1.copy()\n",
    "\n",
    "    for i in range(len(dice1)):\n",
    "        for x in range(len(dice2)):\n",
    "            w = (i,x)\n",
    "            if (i + x == 5) and (i !=0) and (x !=0):\n",
    "                print(w)\n",
    "\n",
    "if __name__ == \"__main__\":\n",
    "    main()"
   ]
  }
 ],
 "metadata": {
  "kernelspec": {
   "display_name": "Python 3",
   "language": "python",
   "name": "python3"
  },
  "language_info": {
   "codemirror_mode": {
    "name": "ipython",
    "version": 3
   },
   "file_extension": ".py",
   "mimetype": "text/x-python",
   "name": "python",
   "nbconvert_exporter": "python",
   "pygments_lexer": "ipython3",
   "version": "3.8.8"
  }
 },
 "nbformat": 4,
 "nbformat_minor": 5
}
