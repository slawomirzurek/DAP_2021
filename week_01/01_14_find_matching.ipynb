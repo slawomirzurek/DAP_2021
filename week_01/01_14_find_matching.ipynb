{
 "cells": [
  {
   "cell_type": "code",
   "execution_count": 13,
   "id": "0a509714",
   "metadata": {},
   "outputs": [
    {
     "data": {
      "text/plain": [
       "[0, 1, 3]"
      ]
     },
     "execution_count": 13,
     "metadata": {},
     "output_type": "execute_result"
    }
   ],
   "source": [
    "L = [\"sensitive\", \"engine\", \"rubbish\", \"comment\"]\n",
    "pattern = \"en\"\n",
    "\n",
    "def find_matching(L, pattern):\n",
    "    s = []\n",
    "    for i, x in enumerate(L):\n",
    "        if pattern in x:\n",
    "            s.append(i)\n",
    "    return(s)\n",
    "\n",
    "find_matching(L, pattern)"
   ]
  }
 ],
 "metadata": {
  "kernelspec": {
   "display_name": "Python 3",
   "language": "python",
   "name": "python3"
  },
  "language_info": {
   "codemirror_mode": {
    "name": "ipython",
    "version": 3
   },
   "file_extension": ".py",
   "mimetype": "text/x-python",
   "name": "python",
   "nbconvert_exporter": "python",
   "pygments_lexer": "ipython3",
   "version": "3.8.8"
  }
 },
 "nbformat": 4,
 "nbformat_minor": 5
}
