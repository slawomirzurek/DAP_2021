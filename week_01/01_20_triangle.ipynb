{
 "cells": [
  {
   "cell_type": "code",
   "execution_count": null,
   "id": "dd4fe553",
   "metadata": {},
   "outputs": [],
   "source": [
    "'''Module containing functions that calculate the triangle's length of hypotenuse and area.'''\n",
    "\n",
    "__author__ = 'Sławomir Żurek'\n",
    "__version__ = '1.0'\n",
    "\n",
    "from math import sqrt\n",
    "\n",
    "def hypothenuse(a,b):\n",
    "    '''Function which returns the length of the hypothenuse when given the lengths of two other sides of a right-angled triangle.'''\n",
    "    return sqrt(a**2 + b**2)\n",
    "\n",
    "def area(a,h):\n",
    "    '''Function which returns the area of the right-angled triangle, when two sides, perpendicular to each other, are given as parameters.'''\n",
    "    return (a*h)/2"
   ]
  }
 ],
 "metadata": {
  "kernelspec": {
   "display_name": "Python 3",
   "language": "python",
   "name": "python3"
  },
  "language_info": {
   "codemirror_mode": {
    "name": "ipython",
    "version": 3
   },
   "file_extension": ".py",
   "mimetype": "text/x-python",
   "name": "python",
   "nbconvert_exporter": "python",
   "pygments_lexer": "ipython3",
   "version": "3.8.8"
  }
 },
 "nbformat": 4,
 "nbformat_minor": 5
}
