{
 "cells": [
  {
   "cell_type": "code",
   "execution_count": 24,
   "id": "931525a3",
   "metadata": {},
   "outputs": [
    {
     "name": "stdout",
     "output_type": "stream",
     "text": [
      "[1, 2, 5, 6, 9, 10, 12]\n"
     ]
    }
   ],
   "source": [
    "L1 = [1,5,9,12]\n",
    "L2 = [2,6,10]\n",
    "\n",
    "def merge(L1,L2):\n",
    "    L = L1.copy()+L2.copy()\n",
    "\n",
    "    for i in range(len(L)):\n",
    "        for j in range(i+1, len(L)):\n",
    "            if L[j]<L[i]:\n",
    "                L[j], L[i] = L[i], L[j]\n",
    "\n",
    "    return(L)\n",
    "\n",
    "print(merge(L1,L2))"
   ]
  }
 ],
 "metadata": {
  "kernelspec": {
   "display_name": "Python 3",
   "language": "python",
   "name": "python3"
  },
  "language_info": {
   "codemirror_mode": {
    "name": "ipython",
    "version": 3
   },
   "file_extension": ".py",
   "mimetype": "text/x-python",
   "name": "python",
   "nbconvert_exporter": "python",
   "pygments_lexer": "ipython3",
   "version": "3.8.8"
  }
 },
 "nbformat": 4,
 "nbformat_minor": 5
}
