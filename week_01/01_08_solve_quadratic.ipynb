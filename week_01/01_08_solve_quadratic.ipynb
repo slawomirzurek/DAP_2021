{
 "cells": [
  {
   "cell_type": "code",
   "execution_count": null,
   "id": "976fb7f2",
   "metadata": {},
   "outputs": [],
   "source": [
    "import math\n",
    "\n",
    "def solve_quadratic(a, b, c):\n",
    "        \n",
    "    d = b*b - 4*a*c\n",
    "    d = math.sqrt(abs(d))\n",
    "        \n",
    "    x1 = ((-b+d) / (2*a))\n",
    "    x2 = ((-b-d) / (2*a))\n",
    "    x = (x1, x2)\n",
    "    return (x)\n",
    "\n",
    "print(solve_quadratic(1,-3,2))\n",
    "print(solve_quadratic(1,2,1))"
   ]
  }
 ],
 "metadata": {
  "kernelspec": {
   "display_name": "Python 3",
   "language": "python",
   "name": "python3"
  },
  "language_info": {
   "codemirror_mode": {
    "name": "ipython",
    "version": 3
   },
   "file_extension": ".py",
   "mimetype": "text/x-python",
   "name": "python",
   "nbconvert_exporter": "python",
   "pygments_lexer": "ipython3",
   "version": "3.8.8"
  }
 },
 "nbformat": 4,
 "nbformat_minor": 5
}
