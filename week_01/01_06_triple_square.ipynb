{
 "cells": [
  {
   "cell_type": "code",
   "execution_count": 78,
   "id": "7b6ef721",
   "metadata": {},
   "outputs": [
    {
     "name": "stdout",
     "output_type": "stream",
     "text": [
      "triple(1)==3 square(1)==1\n",
      "triple(2)==6 square(2)==4\n",
      "triple(3)==9 square(3)==9\n"
     ]
    }
   ],
   "source": [
    "def triple(a):\n",
    "    global tr\n",
    "    tr = a*3\n",
    "    return tr\n",
    "\n",
    "def square(a):\n",
    "    global sq\n",
    "    sq = a**2\n",
    "    return sq\n",
    "\n",
    "def main():\n",
    "    for i in range(1,11):\n",
    "        t = triple(i)\n",
    "        s = square(i)\n",
    "        if s > t:\n",
    "            break\n",
    "        else:\n",
    "            print (f\"triple({i})=={t} square({i})=={s}\")\n",
    "            \n",
    "if __name__ == \"__main__\":\n",
    "    main()"
   ]
  }
 ],
 "metadata": {
  "kernelspec": {
   "display_name": "Python 3",
   "language": "python",
   "name": "python3"
  },
  "language_info": {
   "codemirror_mode": {
    "name": "ipython",
    "version": 3
   },
   "file_extension": ".py",
   "mimetype": "text/x-python",
   "name": "python",
   "nbconvert_exporter": "python",
   "pygments_lexer": "ipython3",
   "version": "3.8.8"
  }
 },
 "nbformat": 4,
 "nbformat_minor": 5
}
