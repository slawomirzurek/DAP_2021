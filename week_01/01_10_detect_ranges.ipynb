{
 "cells": [
  {
   "cell_type": "code",
   "execution_count": 22,
   "id": "c052d783",
   "metadata": {},
   "outputs": [
    {
     "name": "stdout",
     "output_type": "stream",
     "text": [
      "[2, (4, 9), 10, (12, 14)]\n"
     ]
    }
   ],
   "source": [
    "def detect_ranges(L):\n",
    "    S = sorted(L)\n",
    "    start = 0\n",
    "    end = 0\n",
    "    result = []\n",
    "\n",
    "    for i in range(1, len(S)):\n",
    "        if S[i] - 1 == S[i-1]:\n",
    "            end = i\n",
    "            if i == len(S)-1:\n",
    "                result.append((S[start], S[end]+1))       \n",
    "        else:\n",
    "            if start == end:\n",
    "                result.append(S[start])\n",
    "            else:\n",
    "                result.append((S[start], S[end]+1))\n",
    "            start = end = i\n",
    "            if i == len(S)-1:\n",
    "                result.append(S[-1])\n",
    "    return result\n",
    "\n",
    "def main():\n",
    "    L = [2,5,4,8,12,6,7,10,13]\n",
    "    print(detect_ranges(L))\n",
    "\n",
    "if __name__ == \"__main__\":\n",
    "    main()"
   ]
  }
 ],
 "metadata": {
  "kernelspec": {
   "display_name": "Python 3",
   "language": "python",
   "name": "python3"
  },
  "language_info": {
   "codemirror_mode": {
    "name": "ipython",
    "version": 3
   },
   "file_extension": ".py",
   "mimetype": "text/x-python",
   "name": "python",
   "nbconvert_exporter": "python",
   "pygments_lexer": "ipython3",
   "version": "3.8.8"
  }
 },
 "nbformat": 4,
 "nbformat_minor": 5
}
