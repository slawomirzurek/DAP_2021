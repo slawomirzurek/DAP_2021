{
 "cells": [
  {
   "cell_type": "code",
   "execution_count": 3,
   "id": "66b72f11",
   "metadata": {},
   "outputs": [
    {
     "data": {
      "text/plain": [
       "[2, 30, -3]"
      ]
     },
     "execution_count": 3,
     "metadata": {},
     "output_type": "execute_result"
    }
   ],
   "source": [
    "s1 = \"1 5 3\"\n",
    "s2 = \"2 6 -1\"\n",
    "\n",
    "def transform(s1, s2):\n",
    "\n",
    "    s1 = list(map(int, s1.split()))\n",
    "    s2 = list(map(int, s2.split()))\n",
    "    \n",
    "    s = [*list(map(lambda i: i[0]*i[1], list(zip(s1,s2))))]\n",
    "    return(s)\n",
    "  \n",
    "transform(s1, s2)"
   ]
  }
 ],
 "metadata": {
  "kernelspec": {
   "display_name": "Python 3",
   "language": "python",
   "name": "python3"
  },
  "language_info": {
   "codemirror_mode": {
    "name": "ipython",
    "version": 3
   },
   "file_extension": ".py",
   "mimetype": "text/x-python",
   "name": "python",
   "nbconvert_exporter": "python",
   "pygments_lexer": "ipython3",
   "version": "3.8.8"
  }
 },
 "nbformat": 4,
 "nbformat_minor": 5
}
