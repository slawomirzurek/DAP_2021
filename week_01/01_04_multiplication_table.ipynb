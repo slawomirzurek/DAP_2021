{
 "cells": [
  {
   "cell_type": "code",
   "execution_count": 7,
   "id": "733b9118",
   "metadata": {},
   "outputs": [
    {
     "name": "stdout",
     "output_type": "stream",
     "text": [
      "   1\t   2\t   3\t   4\t   5\t   6\t   7\t   8\t   9\t  10\t\n",
      "   2\t   4\t   6\t   8\t  10\t  12\t  14\t  16\t  18\t  20\t\n",
      "   3\t   6\t   9\t  12\t  15\t  18\t  21\t  24\t  27\t  30\t\n",
      "   4\t   8\t  12\t  16\t  20\t  24\t  28\t  32\t  36\t  40\t\n",
      "   5\t  10\t  15\t  20\t  25\t  30\t  35\t  40\t  45\t  50\t\n",
      "   6\t  12\t  18\t  24\t  30\t  36\t  42\t  48\t  54\t  60\t\n",
      "   7\t  14\t  21\t  28\t  35\t  42\t  49\t  56\t  63\t  70\t\n",
      "   8\t  16\t  24\t  32\t  40\t  48\t  56\t  64\t  72\t  80\t\n",
      "   9\t  18\t  27\t  36\t  45\t  54\t  63\t  72\t  81\t  90\t\n",
      "  10\t  20\t  30\t  40\t  50\t  60\t  70\t  80\t  90\t 100\t\n"
     ]
    }
   ],
   "source": [
    "def main():\n",
    "    \n",
    "    for j in range (1,11):\n",
    "        for k in range (1,11):\n",
    "            print(f\"{j*k:4d}\", end=\"\\t\")\n",
    "        print()\n",
    "    \n",
    "if __name__ == \"__main__\":\n",
    "    main()"
   ]
  }
 ],
 "metadata": {
  "kernelspec": {
   "display_name": "Python 3",
   "language": "python",
   "name": "python3"
  },
  "language_info": {
   "codemirror_mode": {
    "name": "ipython",
    "version": 3
   },
   "file_extension": ".py",
   "mimetype": "text/x-python",
   "name": "python",
   "nbconvert_exporter": "python",
   "pygments_lexer": "ipython3",
   "version": "3.8.8"
  }
 },
 "nbformat": 4,
 "nbformat_minor": 5
}
