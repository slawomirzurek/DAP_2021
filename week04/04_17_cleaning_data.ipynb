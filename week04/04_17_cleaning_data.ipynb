{
  "nbformat": 4,
  "nbformat_minor": 0,
  "metadata": {
    "colab": {
      "name": "04_17_cleaning_data.ipynb",
      "provenance": [],
      "mount_file_id": "1Fuc2AVwV03MlHTHpkZCep3Id8KqQEAZZ",
      "authorship_tag": "ABX9TyO4+dZ+LNCf9bj6D9RDVNoP"
    },
    "kernelspec": {
      "name": "python3",
      "display_name": "Python 3"
    },
    "language_info": {
      "name": "python"
    }
  },
  "cells": [
    {
      "cell_type": "code",
      "source": [
        "import pandas as pd\n",
        "import numpy as np\n",
        "\n",
        "\n",
        "def cleaning_data():\n",
        "\n",
        "    df = pd.read_csv('src\\presidents.tsv', sep=\"\\t\")\n",
        "\n",
        "\n",
        "    president = df.iloc[:,0]\n",
        "    for i, value in enumerate(president):\n",
        "      if \",\" in value:\n",
        "        value = value.replace(\",\",\"\").split(\" \")\n",
        "        value = ' '.join(value[::-1])\n",
        "        president[i] = value\n",
        "      else:\n",
        "        pass\n",
        "\n",
        "\n",
        "    df['Start'] = df['Start'].str[:4].astype(int)\n",
        "\n",
        "\n",
        "    df[df == '-'] = np.nan\n",
        "    df['Last'] = df['Last'].astype(float)\n",
        "\n",
        "\n",
        "    df[\"Seasons\"] = df[\"Seasons\"].replace('two','2').astype(int)\n",
        "\n",
        "\n",
        "    vice = df.iloc[:,-1]\n",
        "    for i, value in enumerate(vice):\n",
        "      value = value.capitalize()\n",
        "      if \",\" in value:\n",
        "          value = value.replace(\",\",\"\").split(\" \")\n",
        "          value = ' '.join(value[::-1])\n",
        "          vice[i] = value\n",
        "      else:\n",
        "        pass\n",
        "    df['Vice-president'] = vice.map(lambda x: x.title())\n",
        "\n",
        "\n",
        "    return df\n",
        "\n",
        "def main():\n",
        "    print(cleaning_data())\n",
        "\n",
        "if __name__ == \"__main__\":\n",
        "    main()"
      ],
      "metadata": {
        "colab": {
          "base_uri": "https://localhost:8080/"
        },
        "id": "jR35YVYacmGR",
        "outputId": "933eabf6-c362-4a45-b820-e23d695f180e"
      },
      "execution_count": 149,
      "outputs": [
        {
          "output_type": "stream",
          "name": "stdout",
          "text": [
            "      President  Start    Last  Seasons Vice-president\n",
            "0  Donald Trump   2017     NaN        1     Mike Pence\n",
            "1  Barack Obama   2009  2017.0        2      Joe Biden\n",
            "2   George Bush   2001  2009.0        2    Dick Cheney\n",
            "3  Bill Clinton   1993  2001.0        2        Al Gore\n"
          ]
        },
        {
          "output_type": "stream",
          "name": "stderr",
          "text": [
            "/usr/local/lib/python3.7/dist-packages/ipykernel_launcher.py:36: SettingWithCopyWarning: \n",
            "A value is trying to be set on a copy of a slice from a DataFrame\n",
            "\n",
            "See the caveats in the documentation: https://pandas.pydata.org/pandas-docs/stable/user_guide/indexing.html#returning-a-view-versus-a-copy\n"
          ]
        }
      ]
    }
  ]
}
