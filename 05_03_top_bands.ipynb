{
  "nbformat": 4,
  "nbformat_minor": 0,
  "metadata": {
    "colab": {
      "name": "05_03_top_bands.ipynb",
      "provenance": [],
      "authorship_tag": "ABX9TyPZWE7onbymdynn4E3Hgdfs"
    },
    "kernelspec": {
      "name": "python3",
      "display_name": "Python 3"
    },
    "language_info": {
      "name": "python"
    }
  },
  "cells": [
    {
      "cell_type": "code",
      "execution_count": null,
      "metadata": {
        "id": "bE0oK921iZVh"
      },
      "outputs": [],
      "source": [
        "import pandas as pd\n",
        "\n",
        "def top_bands():\n",
        "    top = pd.read_csv('src/UK-top40-1964-1-2.tsv', sep='\\t')\n",
        "    bands = pd.read_csv('src/bands.tsv', sep='\\t')\n",
        "\n",
        "    top[\"Artist\"] = top[\"Artist\"].str.upper()\n",
        "    bands[\"Band\"] = bands[\"Band\"].str.upper()\n",
        "\n",
        "    merged = pd.merge(bands, top, left_on='Band', right_on='Artist')\n",
        "    return merged\n",
        "\n",
        "def main():\n",
        "    top_bands()\n",
        "\n",
        "if __name__ == \"__main__\":\n",
        "    main()"
      ]
    }
  ]
}