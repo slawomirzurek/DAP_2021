{
  "nbformat": 4,
  "nbformat_minor": 0,
  "metadata": {
    "colab": {
      "name": "05_09_commute.ipynb",
      "provenance": [],
      "authorship_tag": "ABX9TyOf2iVxvSAAOtNJHxYziwfo"
    },
    "kernelspec": {
      "name": "python3",
      "display_name": "Python 3"
    },
    "language_info": {
      "name": "python"
    }
  },
  "cells": [
    {
      "cell_type": "code",
      "execution_count": null,
      "metadata": {
        "id": "2q9jz7FQiGck"
      },
      "outputs": [],
      "source": [
        "#!/usr/bin/env python3\n",
        "\n",
        "import pandas as pd\n",
        "import matplotlib.pyplot as plt\n",
        "\n",
        "def split_date():\n",
        "    df = pd.read_csv('src/Helsingin_pyorailijamaarat.csv', sep=';')\n",
        "    df.dropna(how='all', inplace=True)\n",
        "    df.dropna(axis=1, how='all', inplace=True)\n",
        "    df_date = df[\"Päivämäärä\"].str.split(expand=True)\n",
        "    df_date.columns = ['Weekday', 'Day', 'Month', 'Year', 'Hour']\n",
        "    weekdays = {'ma': 'Mon','ti': 'Tue','ke': 'Wed','to': 'Thu','pe': 'Fri','la': 'Sat','su': 'Sun'}\n",
        "    months = {'tammi': 1,'helmi': 2,'maalis': 3,'huhti': 4,'touko': 5,'kesä': 6,'heinä': 7,'elo': 8,'syys': 9,'loka': 10,'marras': 11,'joulu': 12}\n",
        "    df_weekday = df_date['Weekday'].map(weekdays)\n",
        "    df_date['Weekday'] = df_weekday\n",
        "    df_month = df_date['Month'].map(months)\n",
        "    df_date['Month'] = df_month\n",
        "    df_day = df_date['Day']\n",
        "    df_date['Day'] = df_day\n",
        "    df_year = df_date['Year']\n",
        "    df_date['Year'] = df_year\n",
        "    df_hour = df_date['Hour'].map(lambda x: x[0:2])\n",
        "    df_date['Hour'] = df_hour\n",
        "    df_date = df_date.astype({'Weekday': object, 'Day': int, 'Month': int, 'Year': int, 'Hour': int})\n",
        "    return (df_date, df)\n",
        "\n",
        "def split_date_continues():\n",
        "    x, df = split_date()\n",
        "    df.dropna(how='all', axis=1, inplace=True)\n",
        "    df = df.iloc[:,1:]\n",
        "    conc = pd.concat([x, df], axis=1)\n",
        "    return conc\n",
        "\n",
        "def bicycle_timeseries():\n",
        "    df = split_date_continues()\n",
        "    df[\"Date\"] = pd.to_datetime(df[[\"Day\", \"Month\", \"Year\", 'Hour']], dayfirst=True)\n",
        "    df.drop(['Day', 'Month', 'Year', 'Hour', 'Weekday'], inplace=True, axis=1)\n",
        "    df.set_index(\"Date\", inplace=True)\n",
        "    return df\n",
        "\n",
        "def commute():\n",
        "    df = bicycle_timeseries()\n",
        "    df = df[\"2017-08-1\":\"2017-08-31\"]\n",
        "    df = df.groupby(pd.datetime.weekday).sum()\n",
        "    df[\"Weekday\"] = [1,2,3,4,5,6,7]\n",
        "    df = df.set_index(\"Weekday\")\n",
        "    return df\n",
        "\n",
        "\n",
        "def main():\n",
        "    df = commute()\n",
        "    df.plot()\n",
        "    plt.show()  \n",
        "\n",
        "\n",
        "if __name__ == \"__main__\":\n",
        "    main()"
      ]
    }
  ]
}